{
 "cells": [
  {
   "cell_type": "code",
   "execution_count": 1,
   "metadata": {},
   "outputs": [],
   "source": [
    "import requests"
   ]
  },
  {
   "cell_type": "code",
   "execution_count": 2,
   "metadata": {},
   "outputs": [],
   "source": [
    "url = \"https://datos.gob.es/apidata/catalog/dataset\""
   ]
  },
  {
   "cell_type": "code",
   "execution_count": 20,
   "metadata": {},
   "outputs": [
    {
     "name": "stdout",
     "output_type": "stream",
     "text": [
      "Error en la solicitud. Código de estado: 500\n"
     ]
    }
   ],
   "source": [
    "# Parámetros opcionales para filtrar la búsqueda, por ejemplo, para el tema de educación\n",
    "params = {\n",
    "    \"q\": \"universidades\",  # Cambia el término de búsqueda para afinar los resultados\n",
    "    \"rows\": 2,        # Número de resultados por página\n",
    "    \"start\": 0         # Índice de la primera fila\n",
    "}\n",
    "\n",
    "# Hacer la solicitud a la API\n",
    "response = requests.get(url, params=params)\n",
    "\n",
    "# Verificar que la solicitud fue exitosa (código 200)\n",
    "if response.status_code == 200:\n",
    "    data = response.json()  # Parsear la respuesta JSON\n",
    "    datasets = data[\"result\"][\"items\"]  # Extraer los datasets obtenidos\n",
    "\n",
    "    # Mostrar los títulos y descripciones de los datasets\n",
    "    for dataset in datasets:\n",
    "        print(f\"Título: {dataset['title']}\")\n",
    "        print(f\"Descripción: {dataset['description']}\\n\")\n",
    "else:\n",
    "    print(f\"Error en la solicitud. Código de estado: {response.status_code}\")"
   ]
  },
  {
   "cell_type": "code",
   "execution_count": 4,
   "metadata": {},
   "outputs": [],
   "source": [
    "response = requests.get(url)"
   ]
  },
  {
   "cell_type": "code",
   "execution_count": 5,
   "metadata": {},
   "outputs": [
    {
     "data": {
      "text/plain": [
       "200"
      ]
     },
     "execution_count": 5,
     "metadata": {},
     "output_type": "execute_result"
    }
   ],
   "source": [
    "response.status_code"
   ]
  },
  {
   "cell_type": "code",
   "execution_count": 7,
   "metadata": {},
   "outputs": [
    {
     "name": "stdout",
     "output_type": "stream",
     "text": [
      "b'{ \"format\" : \"linked-data-api\", \"version\" : \"0.2\", \"result\" : {\"_about\" : \"http://datos.gob.es/apidata/catalog/dataset.json\", \"definition\" : \"http://datos.gob.es/apidata/catalog/meta/dataset.json\", \"extendedMetadataVersion\" : \"http://datos.gob.es/apidata/catalog/dataset.json?_metadata=all\", \"first\" : \"http://datos.gob.es/apidata/catalog/dataset.json?_page=0\", \"hasPart\" : \"http://datos.gob.es/apidata/catalog/dataset.json\", \"isPartOf\" : \"http://datos.gob.es/apidata/catalog/dataset.json\", \"items\" : [{\"_about\" : \"https://datos.gob.es/catalogo/a05003423-clasificacion-de-establecimientos-de-restauracion-istac-cl_cnae_2009_restauracion\", \"description\" : [{\"_value\" : \"Clasificaci\\xc3\\xb3n que recoge los diferentes tipos de establecimientos de restauraci\\xc3\\xb3n. Esta basada en la CNAE 2009 y recoge aquellas actividades relacionadas con la prestaci\\xc3\\xb3n de servicios de restauraci\\xc3\\xb3n en las Islas Canarias. Adem\\xc3\\xa1s, recoge aquellos establecimientos de restauraci\\xc3\\xb3n encontrados en los decretos DECRETO 90/2010, de 22 de julio, por el que se regula la actividad tur\\xc3\\xadstica de restauraci\\xc3\\xb3n y los establecimientos donde se desarrolla y DECRETO 83/2013, de 1 de agosto, por el que se regulan la actividad de comercializaci\\xc3\\xb3n temporal de vino de cosecha propia y los establecimientos donde se desarrolla, que no poseen una clasificaci\\xc3\\xb3n espec\\xc3\\xadfica en la CNAE 2009 y que son necesarios para satisfacer las necesidades del ISTAC.\", \"_lang\" : \"es\"}\\n      ], \"distribution\" : [{\"_about\" : \"https://datos.gob.es/catalogo/a05003423-clasificacion-de-establecimientos-de-restauracion-istac-cl_cnae_2009_restauracion/resource/0377bd13-2ed6-43c8-ad82-a9eb5b5ba590\", \"accessURL\" : \"https://datos.canarias.es/api/estadisticas/structural-resources/v1.0/codelists/ISTAC/CL_CNAE_2009_RESTAURACION/01.000/codes.tsv?fields=+description\", \"format\" : {\"_about\" : \"https://datos.gob.es/catalogo/a05003423-clasificacion-de-establecimientos-de-restauracion-istac-cl_cnae_2009_restauracion/resource/0377bd13-2ed6-43c8-ad82-a9eb5b5ba590/format\", \"type\" : \"http://purl.org/dc/terms/IMT\", \"value\" : \"text/tab-separated-values\"}\\n        , \"title\" : [{\"_value\" : \"Clasificaci\\xc3\\xb3n. ISTAC:CL_CNAE_2009_RESTAURACION (TSV)\", \"_lang\" : \"es\"}\\n        ], \"type\" : \"http://www.w3.org/ns/dcat#Distribution\"}\\n      , {\"_about\" : \"https://datos.gob.es/catalogo/a05003423-clasificacion-de-establecimientos-de-restauracion-istac-cl_cnae_2009_restauracion/resource/0c2ef007-b9b9-4006-a96c-ed75b9847aad\", \"accessURL\" : \"https://datos.canarias.es/api/estadisticas/structural-resources/v1.0/codelists/ISTAC/CL_CNAE_2009_RESTAURACION/01.000/codes.csv?fields=+description\", \"format\" : {\"_about\" : \"https://datos.gob.es/catalogo/a05003423-clasificacion-de-establecimientos-de-restauracion-istac-cl_cnae_2009_restauracion/resource/0c2ef007-b9b9-4006-a96c-ed75b9847aad/format\", \"type\" : \"http://purl.org/dc/terms/IMT\", \"value\" : \"text/csv\"}\\n        , \"title\" : [{\"_value\" : \"Clasificaci\\xc3\\xb3n. ISTAC:CL_CNAE_2009_RESTAURACION (CSV)\", \"_lang\" : \"es\"}\\n        ], \"type\" : \"http://www.w3.org/ns/dcat#Distribution\"}\\n      , {\"_about\" : \"https://datos.gob.es/catalogo/a05003423-clasificacion-de-establecimientos-de-restauracion-istac-cl_cnae_2009_restauracion/resource/42249f3d-648b-426b-b3f9-615a35f4d5e4\", \"accessURL\" : \"https://datos.canarias.es/api/estadisticas/structural-resources/v1.0/codelists/ISTAC/CL_CNAE_2009_RESTAURACION/01.000/codes.xlsx?fields=+description\", \"format\" : {\"_about\" : \"https://datos.gob.es/catalogo/a05003423-clasificacion-de-establecimientos-de-restauracion-istac-cl_cnae_2009_restauracion/resource/42249f3d-648b-426b-b3f9-615a35f4d5e4/format\", \"type\" : \"http://purl.org/dc/terms/IMT\", \"value\" : \"application/vnd.openxmlformats-officedocument.spreadsheetml.sheet\"}\\n        , \"title\" : [{\"_value\" : \"Clasificaci\\xc3\\xb3n. ISTAC:CL_CNAE_2009_RESTAURACION (XLSX)\", \"_lang\" : \"es\"}\\n        ], \"type\" : \"http://www.w3.org/ns/dcat#Distribution\"}\\n      , {\"_about\" : \"https://datos.gob.es/catalogo/a05003423-clasificacion-de-establecimientos-de-restauracion-istac-cl_cnae_2009_restauracion/resource/c5f853f0-6f9d-4354-8878-292bd0beffd0\", \"accessURL\" : \"https://datos.canarias.es/api/estadisticas/structural-resources/v1.0/codelists/ISTAC/CL_CNAE_2009_RESTAURACION/01.000/codes.xml?fields=+description\", \"format\" : {\"_about\" : \"https://datos.gob.es/catalogo/a05003423-clasificacion-de-establecimientos-de-restauracion-istac-cl_cnae_2009_restauracion/resource/c5f853f0-6f9d-4354-8878-292bd0beffd0/format\", \"type\" : \"http://purl.org/dc/terms/IMT\", \"value\" : \"application/xml\"}\\n        , \"title\" : [{\"_value\" : \"Clasificaci\\xc3\\xb3n. ISTAC:CL_CNAE_2009_RESTAURACION (XML)\", \"_lang\" : \"es\"}\\n        ], \"type\" : \"http://www.w3.org/ns/dcat#Distribution\"}\\n      , {\"_about\" : \"https://datos.gob.es/catalogo/a05003423-clasificacion-de-establecimientos-de-restauracion-istac-cl_cnae_2009_restauracion/resource/e571291e-cfd4-42d4-98ae-39e42afa70e6\", \"accessURL\" : \"https://datos.canarias.es/api/estadisticas/structural-resources/v1.0/codelists/ISTAC/CL_CNAE_2009_RESTAURACION/01.000/codes.json?fields=+description\", \"format\" : {\"_about\" : \"https://datos.gob.es/catalogo/a05003423-clasificacion-de-establecimientos-de-restauracion-istac-cl_cnae_2009_restauracion/resource/e571291e-cfd4-42d4-98ae-39e42afa70e6/format\", \"type\" : \"http://purl.org/dc/terms/IMT\", \"value\" : \"application/json\"}\\n        , \"title\" : [{\"_value\" : \"Clasificaci\\xc3\\xb3n. ISTAC:CL_CNAE_2009_RESTAURACION (JSON)\", \"_lang\" : \"es\"}\\n        ], \"type\" : \"http://www.w3.org/ns/dcat#Distribution\"}\\n      ], \"identifier\" : \"https://datos.canarias.es/catalogos/estadisticas/dataset/urn-sdmx-org-sdmx-infomodel-codelist-codelist-istac-cl_cnae_2009_restauracion\", \"issued\" : \"mi\\xc3\\xa9, 06 mar 2024 06:43:25 GMT+0000\", \"keyword\" : [{\"_value\" : \"Clasificaci\\xc3\\xb3n\", \"_lang\" : \"es\"}\\n      ], \"language\" : \"es\", \"license\" : \"http://www.gobiernodecanarias.org/istac/aviso_legal.html\", \"modified\" : \"mi\\xc3\\xa9, 06 mar 2024 06:43:25 GMT+0000\", \"publisher\" : \"http://datos.gob.es/recurso/sector-publico/org/Organismo/A05003423\", \"theme\" : \"http://datos.gob.es/kos/sector-publico/sector/sector-publico\", \"title\" : [{\"_value\" : \"Clasificaci\\xc3\\xb3n de establecimientos de restauraci\\xc3\\xb3n (ISTAC: CL_CNAE_2009_RESTAURACION)\", \"_lang\" : \"es\"}\\n      ], \"type\" : \"http://www.w3.org/ns/dcat#Dataset\"}\\n    , {\"_about\" : \"https://datos.gob.es/catalogo/a05003423-defunciones-de-no-residentes-segun-sexos-grupos-de-edad-y-causas-de-muerte-grandes-grupos-de-cie-10-canarias-por-ano\", \"description\" : [{\"_value\" : \"En esta tabla se ofrecen datos desde 1999 sobre las defunciones de no residentes seg\\xc3\\xban sexos, grupos de edad y causas de muerte (grandes grupos de CIE - 10). La informaci\\xc3\\xb3n se desagrega territorialmente a nivel de Canarias.\", \"_lang\" : \"es\"}\\n      ], \"distribution\" : [{\"_about\" : \"https://datos.gob.es/catalogo/a05003423-defunciones-de-no-residentes-segun-sexos-grupos-de-edad-y-causas-de-muerte-grandes-grupos-de-cie-10-canarias-por-ano/resource/019ab0af-0c40-4131-9908-d28702813ae5\", \"accessURL\" : \"https://datos.canarias.es/api/estadisticas/statistical-resources/v1.0/datasets/ISTAC/E30417A_000005/1.0.tsv\", \"format\" : {\"_about\" : \"https://datos.gob.es/catalogo/a05003423-defunciones-de-no-residentes-segun-sexos-grupos-de-edad-y-causas-de-muerte-grandes-grupos-de-cie-10-canarias-por-ano/resource/019ab0af-0c40-4131-9908-d28702813ae5/format\", \"type\" : \"http://purl.org/dc/terms/IMT\", \"value\" : \"text/tab-separated-values\"}\\n        , \"title\" : [{\"_value\" : \"Cubo estad\\xc3\\xadstico. ISTAC:E30417A_000005 (TSV)\", \"_lang\" : \"es\"}\\n        ], \"type\" : \"http://www.w3.org/ns/dcat#Distribution\"}\\n      , {\"_about\" : \"https://datos.gob.es/catalogo/a05003423-defunciones-de-no-residentes-segun-sexos-grupos-de-edad-y-causas-de-muerte-grandes-grupos-de-cie-10-canarias-por-ano/resource/1aabd99c-e564-4fe2-b112-7a81422890a2\", \"accessURL\" : \"https://datos.canarias.es/api/estadisticas/statistical-resources/v1.0/datasets/ISTAC/E30417A_000005/1.0.xml\", \"format\" : {\"_about\" : \"https://datos.gob.es/catalogo/a05003423-defunciones-de-no-residentes-segun-sexos-grupos-de-edad-y-causas-de-muerte-grandes-grupos-de-cie-10-canarias-por-ano/resource/1aabd99c-e564-4fe2-b112-7a81422890a2/format\", \"type\" : \"http://purl.org/dc/terms/IMT\", \"value\" : \"application/xml\"}\\n        , \"title\" : [{\"_value\" : \"Cubo estad\\xc3\\xadstico. ISTAC:E30417A_000005 (XML)\", \"_lang\" : \"es\"}\\n        ], \"type\" : \"http://www.w3.org/ns/dcat#Distribution\"}\\n      , {\"_about\" : \"https://datos.gob.es/catalogo/a05003423-defunciones-de-no-residentes-segun-sexos-grupos-de-edad-y-causas-de-muerte-grandes-grupos-de-cie-10-canarias-por-ano/resource/1f1cb19a-910a-4bac-b61e-40fdd7dc39f1\", \"accessURL\" : \"https://datos.canarias.es/api/estadisticas/statistical-resources/v1.0/datasets/ISTAC/E30417A_000005/1.0.jsonstat\", \"format\" : {\"_about\" : \"https://datos.gob.es/catalogo/a05003423-defunciones-de-no-residentes-segun-sexos-grupos-de-edad-y-causas-de-muerte-grandes-grupos-de-cie-10-canarias-por-ano/resource/1f1cb19a-910a-4bac-b61e-40fdd7dc39f1/format\", \"type\" : \"http://purl.org/dc/terms/IMT\", \"value\" : \"application/json\"}\\n        , \"title\" : [{\"_value\" : \"Cubo estad\\xc3\\xadstico. ISTAC:E30417A_000005 (JSONSTAT)\", \"_lang\" : \"es\"}\\n        ], \"type\" : \"http://www.w3.org/ns/dcat#Distribution\"}\\n      , {\"_about\" : \"https://datos.gob.es/catalogo/a05003423-defunciones-de-no-residentes-segun-sexos-grupos-de-edad-y-causas-de-muerte-grandes-grupos-de-cie-10-canarias-por-ano/resource/491f7c3a-c008-43d8-a959-ef7ee896e0cf\", \"accessURL\" : \"https://datos.canarias.es/api/estadisticas/statistical-resources/v1.0/datasets/ISTAC/E30417A_000005/1.0.xlsx\", \"format\" : {\"_about\" : \"https://datos.gob.es/catalogo/a05003423-defunciones-de-no-residentes-segun-sexos-grupos-de-edad-y-causas-de-muerte-grandes-grupos-de-cie-10-canarias-por-ano/resource/491f7c3a-c008-43d8-a959-ef7ee896e0cf/format\", \"type\" : \"http://purl.org/dc/terms/IMT\", \"value\" : \"application/vnd.openxmlformats-officedocument.spreadsheetml.sheet\"}\\n        , \"title\" : [{\"_value\" : \"Cubo estad\\xc3\\xadstico. ISTAC:E30417A_000005 (XLSX)\", \"_lang\" : \"es\"}\\n        ], \"type\" : \"http://www.w3.org/ns/dcat#Distribution\"}\\n      , {\"_about\" : \"https://datos.gob.es/catalogo/a05003423-defunciones-de-no-residentes-segun-sexos-grupos-de-edad-y-causas-de-muerte-grandes-grupos-de-cie-10-canarias-por-ano/resource/a9f91a35-bd29-4150-96ae-78d3f69997c0\", \"accessURL\" : \"https://datos.canarias.es/api/estadisticas/statistical-resources/v1.0/datasets/ISTAC/E30417A_000005/1.0.csv\", \"format\" : {\"_about\" : \"https://datos.gob.es/catalogo/a05003423-defunciones-de-no-residentes-segun-sexos-grupos-de-edad-y-causas-de-muerte-grandes-grupos-de-cie-10-canarias-por-ano/resource/a9f91a35-bd29-4150-96ae-78d3f69997c0/format\", \"type\" : \"http://purl.org/dc/terms/IMT\", \"value\" : \"text/csv\"}\\n        , \"title\" : [{\"_value\" : \"Cubo estad\\xc3\\xadstico. ISTAC:E30417A_000005 (CSV)\", \"_lang\" : \"es\"}\\n        ], \"type\" : \"http://www.w3.org/ns/dcat#Distribution\"}\\n      , {\"_about\" : \"https://datos.gob.es/catalogo/a05003423-defunciones-de-no-residentes-segun-sexos-grupos-de-edad-y-causas-de-muerte-grandes-grupos-de-cie-10-canarias-por-ano/resource/cd32280d-96a2-4275-a1df-84ddbd4e0fc6\", \"accessURL\" : \"https://datos.canarias.es/api/estadisticas/statistical-resources/v1.0/datasets/ISTAC/E30417A_000005/1.0.json\", \"format\" : {\"_about\" : \"https://datos.gob.es/catalogo/a05003423-defunciones-de-no-residentes-segun-sexos-grupos-de-edad-y-causas-de-muerte-grandes-grupos-de-cie-10-canarias-por-ano/resource/cd32280d-96a2-4275-a1df-84ddbd4e0fc6/format\", \"type\" : \"http://purl.org/dc/terms/IMT\", \"value\" : \"application/json\"}\\n        , \"title\" : [{\"_value\" : \"Cubo estad\\xc3\\xadstico. ISTAC:E30417A_000005 (JSON)\", \"_lang\" : \"es\"}\\n        ], \"type\" : \"http://www.w3.org/ns/dcat#Distribution\"}\\n      ], \"identifier\" : \"https://datos.canarias.es/catalogos/estadisticas/dataset/urn-siemac-org-siemac-metamac-infomodel-statisticalresources-dataset-istac-e30417a_000005\", \"issued\" : \"mi\\xc3\\xa9, 06 mar 2024 08:12:56 GMT+0000\", \"keyword\" : [{\"_value\" : \"Cubo estad\\xc3\\xadstico\", \"_lang\" : \"es\"}\\n      ], \"language\" : \"es\", \"license\" : \"http://www.gobiernodecanarias.org/istac/aviso_legal.html\", \"modified\" : \"mi\\xc3\\xa9, 06 mar 2024 08:12:56 GMT+0000\", \"publisher\" : \"http://datos.gob.es/recurso/sector-publico/org/Organismo/A05003423\", \"theme\" : [\"http://datos.gob.es/kos/sector-publico/sector/demografia\", \"http://datos.gob.es/kos/sector-publico/sector/legislacion-justicia\", \"http://datos.gob.es/kos/sector-publico/sector/salud\"], \"title\" : [{\"_value\" : \"Defunciones de no residentes seg\\xc3\\xban sexos, grupos de edad y causas de muerte (grandes grupos de CIE - 10). Canarias por a\\xc3\\xb1o\", \"_lang\" : \"es\"}\\n      ], \"type\" : \"http://www.w3.org/ns/dcat#Dataset\"}\\n    , {\"_about\" : \"https://datos.gob.es/catalogo/a05003423-defunciones-por-ahogamiento-y-sumersion-accidental-inscritas-en-canarias-segun-sexos-municipios-y-periodos\", \"description\" : [{\"_value\" : \"En esta tabla se ofrecen datos desde 2010 sobre ahogamientos y sumersiones seg\\xc3\\xban sexos. La informaci\\xc3\\xb3n se desagrega territorialmente a nivel municipios de Canarias.\", \"_lang\" : \"es\"}\\n      ], \"distribution\" : [{\"_about\" : \"https://datos.gob.es/catalogo/a05003423-defunciones-por-ahogamiento-y-sumersion-accidental-inscritas-en-canarias-segun-sexos-municipios-y-periodos/resource/553e860d-c115-4f80-922e-69f29a8882f3\", \"accessURL\" : \"https://datos.canarias.es/api/estadisticas/statistical-resources/v1.0/datasets/ISTAC/E30417A_000012/1.0.xml\", \"format\" : {\"_about\" : \"https://datos.gob.es/catalogo/a05003423-defunciones-por-ahogamiento-y-sumersion-accidental-inscritas-en-canarias-segun-sexos-municipios-y-periodos/resource/553e860d-c115-4f80-922e-69f29a8882f3/format\", \"type\" : \"http://purl.org/dc/terms/IMT\", \"value\" : \"application/xml\"}\\n        , \"title\" : [{\"_value\" : \"Cubo estad\\xc3\\xadstico. ISTAC:E30417A_000012 (XML)\", \"_lang\" : \"es\"}\\n        ], \"type\" : \"http://www.w3.org/ns/dcat#Distribution\"}\\n      , {\"_about\" : \"https://datos.gob.es/catalogo/a05003423-defunciones-por-ahogamiento-y-sumersion-accidental-inscritas-en-canarias-segun-sexos-municipios-y-periodos/resource/5e4a940f-e434-4af3-9a16-621a1ad710a0\", \"accessURL\" : \"https://datos.canarias.es/api/estadisticas/statistical-resources/v1.0/datasets/ISTAC/E30417A_000012/1.0.jsonstat\", \"format\" : {\"_about\" : \"https://datos.gob.es/catalogo/a05003423-defunciones-por-ahogamiento-y-sumersion-accidental-inscritas-en-canarias-segun-sexos-municipios-y-periodos/resource/5e4a940f-e434-4af3-9a16-621a1ad710a0/format\", \"type\" : \"http://purl.org/dc/terms/IMT\", \"value\" : \"application/json\"}\\n        , \"title\" : [{\"_value\" : \"Cubo estad\\xc3\\xadstico. ISTAC:E30417A_000012 (JSONSTAT)\", \"_lang\" : \"es\"}\\n        ], \"type\" : \"http://www.w3.org/ns/dcat#Distribution\"}\\n      , {\"_about\" : \"https://datos.gob.es/catalogo/a05003423-defunciones-por-ahogamiento-y-sumersion-accidental-inscritas-en-canarias-segun-sexos-municipios-y-periodos/resource/6beb7392-24ff-42c6-8caa-9c7cae370a50\", \"accessURL\" : \"https://datos.canarias.es/api/estadisticas/statistical-resources/v1.0/datasets/ISTAC/E30417A_000012/1.0.xlsx\", \"format\" : {\"_about\" : \"https://datos.gob.es/catalogo/a05003423-defunciones-por-ahogamiento-y-sumersion-accidental-inscritas-en-canarias-segun-sexos-municipios-y-periodos/resource/6beb7392-24ff-42c6-8caa-9c7cae370a50/format\", \"type\" : \"http://purl.org/dc/terms/IMT\", \"value\" : \"application/vnd.openxmlformats-officedocument.spreadsheetml.sheet\"}\\n        , \"title\" : [{\"_value\" : \"Cubo estad\\xc3\\xadstico. ISTAC:E30417A_000012 (XLSX)\", \"_lang\" : \"es\"}\\n        ], \"type\" : \"http://www.w3.org/ns/dcat#Distribution\"}\\n      , {\"_about\" : \"https://datos.gob.es/catalogo/a05003423-defunciones-por-ahogamiento-y-sumersion-accidental-inscritas-en-canarias-segun-sexos-municipios-y-periodos/resource/c86fc755-35bd-4be8-9acf-eb49a6fc2bf7\", \"accessURL\" : \"https://datos.canarias.es/api/estadisticas/statistical-resources/v1.0/datasets/ISTAC/E30417A_000012/1.0.json\", \"format\" : {\"_about\" : \"https://datos.gob.es/catalogo/a05003423-defunciones-por-ahogamiento-y-sumersion-accidental-inscritas-en-canarias-segun-sexos-municipios-y-periodos/resource/c86fc755-35bd-4be8-9acf-eb49a6fc2bf7/format\", \"type\" : \"http://purl.org/dc/terms/IMT\", \"value\" : \"application/json\"}\\n        , \"title\" : [{\"_value\" : \"Cubo estad\\xc3\\xadstico. ISTAC:E30417A_000012 (JSON)\", \"_lang\" : \"es\"}\\n        ], \"type\" : \"http://www.w3.org/ns/dcat#Distribution\"}\\n      , {\"_about\" : \"https://datos.gob.es/catalogo/a05003423-defunciones-por-ahogamiento-y-sumersion-accidental-inscritas-en-canarias-segun-sexos-municipios-y-periodos/resource/e25a845a-8a66-44a4-82f7-9d33e43ed10f\", \"accessURL\" : \"https://datos.canarias.es/api/estadisticas/statistical-resources/v1.0/datasets/ISTAC/E30417A_000012/1.0.tsv\", \"format\" : {\"_about\" : \"https://datos.gob.es/catalogo/a05003423-defunciones-por-ahogamiento-y-sumersion-accidental-inscritas-en-canarias-segun-sexos-municipios-y-periodos/resource/e25a845a-8a66-44a4-82f7-9d33e43ed10f/format\", \"type\" : \"http://purl.org/dc/terms/IMT\", \"value\" : \"text/tab-separated-values\"}\\n        , \"title\" : [{\"_value\" : \"Cubo estad\\xc3\\xadstico. ISTAC:E30417A_000012 (TSV)\", \"_lang\" : \"es\"}\\n        ], \"type\" : \"http://www.w3.org/ns/dcat#Distribution\"}\\n      , {\"_about\" : \"https://datos.gob.es/catalogo/a05003423-defunciones-por-ahogamiento-y-sumersion-accidental-inscritas-en-canarias-segun-sexos-municipios-y-periodos/resource/fdafb13e-eb54-449e-b5a7-cd807b29473c\", \"accessURL\" : \"https://datos.canarias.es/api/estadisticas/statistical-resources/v1.0/datasets/ISTAC/E30417A_000012/1.0.csv\", \"format\" : {\"_about\" : \"https://datos.gob.es/catalogo/a05003423-defunciones-por-ahogamiento-y-sumersion-accidental-inscritas-en-canarias-segun-sexos-municipios-y-periodos/resource/fdafb13e-eb54-449e-b5a7-cd807b29473c/format\", \"type\" : \"http://purl.org/dc/terms/IMT\", \"value\" : \"text/csv\"}\\n        , \"title\" : [{\"_value\" : \"Cubo estad\\xc3\\xadstico. ISTAC:E30417A_000012 (CSV)\", \"_lang\" : \"es\"}\\n        ], \"type\" : \"http://www.w3.org/ns/dcat#Distribution\"}\\n      ], \"identifier\" : \"https://datos.canarias.es/catalogos/estadisticas/dataset/urn-siemac-org-siemac-metamac-infomodel-statisticalresources-dataset-istac-e30417a_000012\", \"issued\" : \"mi\\xc3\\xa9, 06 mar 2024 08:13:17 GMT+0000\", \"keyword\" : [{\"_value\" : \"Cubo estad\\xc3\\xadstico\", \"_lang\" : \"es\"}\\n      ], \"language\" : \"es\", \"license\" : \"http://www.gobiernodecanarias.org/istac/aviso_legal.html\", \"modified\" : \"mi\\xc3\\xa9, 06 mar 2024 08:13:17 GMT+0000\", \"publisher\" : \"http://datos.gob.es/recurso/sector-publico/org/Organismo/A05003423\", \"theme\" : [\"http://datos.gob.es/kos/sector-publico/sector/demografia\", \"http://datos.gob.es/kos/sector-publico/sector/legislacion-justicia\", \"http://datos.gob.es/kos/sector-publico/sector/salud\"], \"title\" : [{\"_value\" : \"Defunciones por ahogamiento y sumersi\\xc3\\xb3n accidental inscritas en Canarias seg\\xc3\\xban sexos. Municipios y periodos\", \"_lang\" : \"es\"}\\n      ], \"type\" : \"http://www.w3.org/ns/dcat#Dataset\"}\\n    , {\"_about\" : \"https://datos.gob.es/catalogo/a05003423-defunciones-por-ahogamiento-y-sumersion-accidental-inscritas-en-canarias-segun-sexos-y-grupos-de-edad-islas-y-periodos\", \"description\" : [{\"_value\" : \"En esta tabla se ofrecen datos desde 2010 sobre ahogamientos y sumersiones seg\\xc3\\xban sexos y grupos de edad. La informaci\\xc3\\xb3n se desagrega territorialmente a nivel islas de Canarias.\", \"_lang\" : \"es\"}\\n      ], \"distribution\" : [{\"_about\" : \"https://datos.gob.es/catalogo/a05003423-defunciones-por-ahogamiento-y-sumersion-accidental-inscritas-en-canarias-segun-sexos-y-grupos-de-edad-islas-y-periodos/resource/1a35ef2a-09e7-4635-b152-9230378b6680\", \"accessURL\" : \"https://datos.canarias.es/api/estadisticas/statistical-resources/v1.0/datasets/ISTAC/E30417A_000010/1.0.tsv\", \"format\" : {\"_about\" : \"https://datos.gob.es/catalogo/a05003423-defunciones-por-ahogamiento-y-sumersion-accidental-inscritas-en-canarias-segun-sexos-y-grupos-de-edad-islas-y-periodos/resource/1a35ef2a-09e7-4635-b152-9230378b6680/format\", \"type\" : \"http://purl.org/dc/terms/IMT\", \"value\" : \"text/tab-separated-values\"}\\n        , \"title\" : [{\"_value\" : \"Cubo estad\\xc3\\xadstico. ISTAC:E30417A_000010 (TSV)\", \"_lang\" : \"es\"}\\n        ], \"type\" : \"http://www.w3.org/ns/dcat#Distribution\"}\\n      , {\"_about\" : \"https://datos.gob.es/catalogo/a05003423-defunciones-por-ahogamiento-y-sumersion-accidental-inscritas-en-canarias-segun-sexos-y-grupos-de-edad-islas-y-periodos/resource/1d67b12b-3c20-4b9d-bcc9-c53798478c1f\", \"accessURL\" : \"https://datos.canarias.es/api/estadisticas/statistical-resources/v1.0/datasets/ISTAC/E30417A_000010/1.0.xlsx\", \"format\" : {\"_about\" : \"https://datos.gob.es/catalogo/a05003423-defunciones-por-ahogamiento-y-sumersion-accidental-inscritas-en-canarias-segun-sexos-y-grupos-de-edad-islas-y-periodos/resource/1d67b12b-3c20-4b9d-bcc9-c53798478c1f/format\", \"type\" : \"http://purl.org/dc/terms/IMT\", \"value\" : \"application/vnd.openxmlformats-officedocument.spreadsheetml.sheet\"}\\n        , \"title\" : [{\"_value\" : \"Cubo estad\\xc3\\xadstico. ISTAC:E30417A_000010 (XLSX)\", \"_lang\" : \"es\"}\\n        ], \"type\" : \"http://www.w3.org/ns/dcat#Distribution\"}\\n      , {\"_about\" : \"https://datos.gob.es/catalogo/a05003423-defunciones-por-ahogamiento-y-sumersion-accidental-inscritas-en-canarias-segun-sexos-y-grupos-de-edad-islas-y-periodos/resource/272b5f4d-5d99-4d3f-8e26-40f93c5ac7fd\", \"accessURL\" : \"https://datos.canarias.es/api/estadisticas/statistical-resources/v1.0/datasets/ISTAC/E30417A_000010/1.0.json\", \"format\" : {\"_about\" : \"https://datos.gob.es/catalogo/a05003423-defunciones-por-ahogamiento-y-sumersion-accidental-inscritas-en-canarias-segun-sexos-y-grupos-de-edad-islas-y-periodos/resource/272b5f4d-5d99-4d3f-8e26-40f93c5ac7fd/format\", \"type\" : \"http://purl.org/dc/terms/IMT\", \"value\" : \"application/json\"}\\n        , \"title\" : [{\"_value\" : \"Cubo estad\\xc3\\xadstico. ISTAC:E30417A_000010 (JSON)\", \"_lang\" : \"es\"}\\n        ], \"type\" : \"http://www.w3.org/ns/dcat#Distribution\"}\\n      , {\"_about\" : \"https://datos.gob.es/catalogo/a05003423-defunciones-por-ahogamiento-y-sumersion-accidental-inscritas-en-canarias-segun-sexos-y-grupos-de-edad-islas-y-periodos/resource/5c59707a-ba47-4a03-b4cc-4d84178766b4\", \"accessURL\" : \"https://datos.canarias.es/api/estadisticas/statistical-resources/v1.0/datasets/ISTAC/E30417A_000010/1.0.xml\", \"format\" : {\"_about\" : \"https://datos.gob.es/catalogo/a05003423-defunciones-por-ahogamiento-y-sumersion-accidental-inscritas-en-canarias-segun-sexos-y-grupos-de-edad-islas-y-periodos/resource/5c59707a-ba47-4a03-b4cc-4d84178766b4/format\", \"type\" : \"http://purl.org/dc/terms/IMT\", \"value\" : \"application/xml\"}\\n        , \"title\" : [{\"_value\" : \"Cubo estad\\xc3\\xadstico. ISTAC:E30417A_000010 (XML)\", \"_lang\" : \"es\"}\\n        ], \"type\" : \"http://www.w3.org/ns/dcat#Distribution\"}\\n      , {\"_about\" : \"https://datos.gob.es/catalogo/a05003423-defunciones-por-ahogamiento-y-sumersion-accidental-inscritas-en-canarias-segun-sexos-y-grupos-de-edad-islas-y-periodos/resource/9b40d125-c5b8-40d7-a782-6f0ab391ed51\", \"accessURL\" : \"https://datos.canarias.es/api/estadisticas/statistical-resources/v1.0/datasets/ISTAC/E30417A_000010/1.0.csv\", \"format\" : {\"_about\" : \"https://datos.gob.es/catalogo/a05003423-defunciones-por-ahogamiento-y-sumersion-accidental-inscritas-en-canarias-segun-sexos-y-grupos-de-edad-islas-y-periodos/resource/9b40d125-c5b8-40d7-a782-6f0ab391ed51/format\", \"type\" : \"http://purl.org/dc/terms/IMT\", \"value\" : \"text/csv\"}\\n        , \"title\" : [{\"_value\" : \"Cubo estad\\xc3\\xadstico. ISTAC:E30417A_000010 (CSV)\", \"_lang\" : \"es\"}\\n        ], \"type\" : \"http://www.w3.org/ns/dcat#Distribution\"}\\n      , {\"_about\" : \"https://datos.gob.es/catalogo/a05003423-defunciones-por-ahogamiento-y-sumersion-accidental-inscritas-en-canarias-segun-sexos-y-grupos-de-edad-islas-y-periodos/resource/d8cbbd53-3ab9-4e54-b64d-624d66d3525e\", \"accessURL\" : \"https://datos.canarias.es/api/estadisticas/statistical-resources/v1.0/datasets/ISTAC/E30417A_000010/1.0.jsonstat\", \"format\" : {\"_about\" : \"https://datos.gob.es/catalogo/a05003423-defunciones-por-ahogamiento-y-sumersion-accidental-inscritas-en-canarias-segun-sexos-y-grupos-de-edad-islas-y-periodos/resource/d8cbbd53-3ab9-4e54-b64d-624d66d3525e/format\", \"type\" : \"http://purl.org/dc/terms/IMT\", \"value\" : \"application/json\"}\\n        , \"title\" : [{\"_value\" : \"Cubo estad\\xc3\\xadstico. ISTAC:E30417A_000010 (JSONSTAT)\", \"_lang\" : \"es\"}\\n        ], \"type\" : \"http://www.w3.org/ns/dcat#Distribution\"}\\n      ], \"identifier\" : \"https://datos.canarias.es/catalogos/estadisticas/dataset/urn-siemac-org-siemac-metamac-infomodel-statisticalresources-dataset-istac-e30417a_000010\", \"issued\" : \"mi\\xc3\\xa9, 06 mar 2024 08:13:11 GMT+0000\", \"keyword\" : [{\"_value\" : \"Cubo estad\\xc3\\xadstico\", \"_lang\" : \"es\"}\\n      ], \"language\" : \"es\", \"license\" : \"http://www.gobiernodecanarias.org/istac/aviso_legal.html\", \"modified\" : \"mi\\xc3\\xa9, 06 mar 2024 08:13:11 GMT+0000\", \"publisher\" : \"http://datos.gob.es/recurso/sector-publico/org/Organismo/A05003423\", \"theme\" : [\"http://datos.gob.es/kos/sector-publico/sector/demografia\", \"http://datos.gob.es/kos/sector-publico/sector/legislacion-justicia\", \"http://datos.gob.es/kos/sector-publico/sector/salud\"], \"title\" : [{\"_value\" : \"Defunciones por ahogamiento y sumersi\\xc3\\xb3n accidental inscritas en Canarias seg\\xc3\\xban sexos y grupos de edad. Islas y periodos\", \"_lang\" : \"es\"}\\n      ], \"type\" : \"http://www.w3.org/ns/dcat#Dataset\"}\\n    , {\"_about\" : \"https://datos.gob.es/catalogo/a05003423-defunciones-por-covid-19-de-residentes-en-canarias-segun-periodo-de-la-defuncion-y-causa-de-muerte-islas-por-ano\", \"description\" : [{\"_value\" : \"En esta tabla se ofrecen datos desde 2020 sobre la covid-19 seg\\xc3\\xban periodos de la defunci\\xc3\\xb3n. La informaci\\xc3\\xb3n se desagrega territorialmente a nivel islas de Canarias.\", \"_lang\" : \"es\"}\\n      ], \"distribution\" : [{\"_about\" : \"https://datos.gob.es/catalogo/a05003423-defunciones-por-covid-19-de-residentes-en-canarias-segun-periodo-de-la-defuncion-y-causa-de-muerte-islas-por-ano/resource/55063da3-e7fb-489b-a9d1-5ce794ebef10\", \"accessURL\" : \"https://datos.canarias.es/api/estadisticas/statistical-resources/v1.0/datasets/ISTAC/E30417A_000016/1.0.xlsx\", \"format\" : {\"_about\" : \"https://datos.gob.es/catalogo/a05003423-defunciones-por-covid-19-de-residentes-en-canarias-segun-periodo-de-la-defuncion-y-causa-de-muerte-islas-por-ano/resource/55063da3-e7fb-489b-a9d1-5ce794ebef10/format\", \"type\" : \"http://purl.org/dc/terms/IMT\", \"value\" : \"application/vnd.openxmlformats-officedocument.spreadsheetml.sheet\"}\\n        , \"title\" : [{\"_value\" : \"Cubo estad\\xc3\\xadstico. ISTAC:E30417A_000016 (XLSX)\", \"_lang\" : \"es\"}\\n        ], \"type\" : \"http://www.w3.org/ns/dcat#Distribution\"}\\n      , {\"_about\" : \"https://datos.gob.es/catalogo/a05003423-defunciones-por-covid-19-de-residentes-en-canarias-segun-periodo-de-la-defuncion-y-causa-de-muerte-islas-por-ano/resource/5febe14d-181b-4b7f-898e-153735835f71\", \"accessURL\" : \"https://datos.canarias.es/api/estadisticas/statistical-resources/v1.0/datasets/ISTAC/E30417A_000016/1.0.json\", \"format\" : {\"_about\" : \"https://datos.gob.es/catalogo/a05003423-defunciones-por-covid-19-de-residentes-en-canarias-segun-periodo-de-la-defuncion-y-causa-de-muerte-islas-por-ano/resource/5febe14d-181b-4b7f-898e-153735835f71/format\", \"type\" : \"http://purl.org/dc/terms/IMT\", \"value\" : \"application/json\"}\\n        , \"title\" : [{\"_value\" : \"Cubo estad\\xc3\\xadstico. ISTAC:E30417A_000016 (JSON)\", \"_lang\" : \"es\"}\\n        ], \"type\" : \"http://www.w3.org/ns/dcat#Distribution\"}\\n      , {\"_about\" : \"https://datos.gob.es/catalogo/a05003423-defunciones-por-covid-19-de-residentes-en-canarias-segun-periodo-de-la-defuncion-y-causa-de-muerte-islas-por-ano/resource/82d43d5f-3436-4f37-aa20-fab8bedf9cf5\", \"accessURL\" : \"https://datos.canarias.es/api/estadisticas/statistical-resources/v1.0/datasets/ISTAC/E30417A_000016/1.0.jsonstat\", \"format\" : {\"_about\" : \"https://datos.gob.es/catalogo/a05003423-defunciones-por-covid-19-de-residentes-en-canarias-segun-periodo-de-la-defuncion-y-causa-de-muerte-islas-por-ano/resource/82d43d5f-3436-4f37-aa20-fab8bedf9cf5/format\", \"type\" : \"http://purl.org/dc/terms/IMT\", \"value\" : \"application/json\"}\\n        , \"title\" : [{\"_value\" : \"Cubo estad\\xc3\\xadstico. ISTAC:E30417A_000016 (JSONSTAT)\", \"_lang\" : \"es\"}\\n        ], \"type\" : \"http://www.w3.org/ns/dcat#Distribution\"}\\n      , {\"_about\" : \"https://datos.gob.es/catalogo/a05003423-defunciones-por-covid-19-de-residentes-en-canarias-segun-periodo-de-la-defuncion-y-causa-de-muerte-islas-por-ano/resource/8ab3662d-b3b6-4d1d-8210-9315485d050c\", \"accessURL\" : \"https://datos.canarias.es/api/estadisticas/statistical-resources/v1.0/datasets/ISTAC/E30417A_000016/1.0.xml\", \"format\" : {\"_about\" : \"https://datos.gob.es/catalogo/a05003423-defunciones-por-covid-19-de-residentes-en-canarias-segun-periodo-de-la-defuncion-y-causa-de-muerte-islas-por-ano/resource/8ab3662d-b3b6-4d1d-8210-9315485d050c/format\", \"type\" : \"http://purl.org/dc/terms/IMT\", \"value\" : \"application/xml\"}\\n        , \"title\" : [{\"_value\" : \"Cubo estad\\xc3\\xadstico. ISTAC:E30417A_000016 (XML)\", \"_lang\" : \"es\"}\\n        ], \"type\" : \"http://www.w3.org/ns/dcat#Distribution\"}\\n      , {\"_about\" : \"https://datos.gob.es/catalogo/a05003423-defunciones-por-covid-19-de-residentes-en-canarias-segun-periodo-de-la-defuncion-y-causa-de-muerte-islas-por-ano/resource/8b68b969-2617-454f-82b0-d26b1a1d4d7f\", \"accessURL\" : \"https://datos.canarias.es/api/estadisticas/statistical-resources/v1.0/datasets/ISTAC/E30417A_000016/1.0.tsv\", \"format\" : {\"_about\" : \"https://datos.gob.es/catalogo/a05003423-defunciones-por-covid-19-de-residentes-en-canarias-segun-periodo-de-la-defuncion-y-causa-de-muerte-islas-por-ano/resource/8b68b969-2617-454f-82b0-d26b1a1d4d7f/format\", \"type\" : \"http://purl.org/dc/terms/IMT\", \"value\" : \"text/tab-separated-values\"}\\n        , \"title\" : [{\"_value\" : \"Cubo estad\\xc3\\xadstico. ISTAC:E30417A_000016 (TSV)\", \"_lang\" : \"es\"}\\n        ], \"type\" : \"http://www.w3.org/ns/dcat#Distribution\"}\\n      , {\"_about\" : \"https://datos.gob.es/catalogo/a05003423-defunciones-por-covid-19-de-residentes-en-canarias-segun-periodo-de-la-defuncion-y-causa-de-muerte-islas-por-ano/resource/e4152a22-763c-4d04-a5fd-0ee08efc18ae\", \"accessURL\" : \"https://datos.canarias.es/api/estadisticas/statistical-resources/v1.0/datasets/ISTAC/E30417A_000016/1.0.csv\", \"format\" : {\"_about\" : \"https://datos.gob.es/catalogo/a05003423-defunciones-por-covid-19-de-residentes-en-canarias-segun-periodo-de-la-defuncion-y-causa-de-muerte-islas-por-ano/resource/e4152a22-763c-4d04-a5fd-0ee08efc18ae/format\", \"type\" : \"http://purl.org/dc/terms/IMT\", \"value\" : \"text/csv\"}\\n        , \"title\" : [{\"_value\" : \"Cubo estad\\xc3\\xadstico. ISTAC:E30417A_000016 (CSV)\", \"_lang\" : \"es\"}\\n        ], \"type\" : \"http://www.w3.org/ns/dcat#Distribution\"}\\n      ], \"identifier\" : \"https://datos.canarias.es/catalogos/estadisticas/dataset/urn-siemac-org-siemac-metamac-infomodel-statisticalresources-dataset-istac-e30417a_000016\", \"issued\" : \"mi\\xc3\\xa9, 06 mar 2024 08:13:30 GMT+0000\", \"keyword\" : [{\"_value\" : \"Cubo estad\\xc3\\xadstico\", \"_lang\" : \"es\"}\\n      ], \"language\" : \"es\", \"license\" : \"http://www.gobiernodecanarias.org/istac/aviso_legal.html\", \"modified\" : \"mi\\xc3\\xa9, 06 mar 2024 08:13:30 GMT+0000\", \"publisher\" : \"http://datos.gob.es/recurso/sector-publico/org/Organismo/A05003423\", \"theme\" : [\"http://datos.gob.es/kos/sector-publico/sector/demografia\", \"http://datos.gob.es/kos/sector-publico/sector/legislacion-justicia\", \"http://datos.gob.es/kos/sector-publico/sector/salud\"], \"title\" : [{\"_value\" : \"Defunciones por covid-19 de residentes en Canarias seg\\xc3\\xban periodo de la defunci\\xc3\\xb3n y causa de muerte. Islas por a\\xc3\\xb1o\", \"_lang\" : \"es\"}\\n      ], \"type\" : \"http://www.w3.org/ns/dcat#Dataset\"}\\n    , {\"_about\" : \"https://datos.gob.es/catalogo/a05003423-defunciones-por-covid-19-de-residentes-en-canarias-segun-sexos-y-causa-de-muerte-municipios-y-periodos\", \"description\" : [{\"_value\" : \"En esta tabla se ofrecen datos desde 2020 sobre la covid-19 seg\\xc3\\xban sexos y causa de muerte. La informaci\\xc3\\xb3n se desagrega territorialmente a nivel municipios de Canarias.\", \"_lang\" : \"es\"}\\n      ], \"distribution\" : [{\"_about\" : \"https://datos.gob.es/catalogo/a05003423-defunciones-por-covid-19-de-residentes-en-canarias-segun-sexos-y-causa-de-muerte-municipios-y-periodos/resource/3a324412-6064-4279-a979-803a3d12d1d5\", \"accessURL\" : \"https://datos.canarias.es/api/estadisticas/statistical-resources/v1.0/datasets/ISTAC/E30417A_000014/1.0.xml\", \"format\" : {\"_about\" : \"https://datos.gob.es/catalogo/a05003423-defunciones-por-covid-19-de-residentes-en-canarias-segun-sexos-y-causa-de-muerte-municipios-y-periodos/resource/3a324412-6064-4279-a979-803a3d12d1d5/format\", \"type\" : \"http://purl.org/dc/terms/IMT\", \"value\" : \"application/xml\"}\\n        , \"title\" : [{\"_value\" : \"Cubo estad\\xc3\\xadstico. ISTAC:E30417A_000014 (XML)\", \"_lang\" : \"es\"}\\n        ], \"type\" : \"http://www.w3.org/ns/dcat#Distribution\"}\\n      , {\"_about\" : \"https://datos.gob.es/catalogo/a05003423-defunciones-por-covid-19-de-residentes-en-canarias-segun-sexos-y-causa-de-muerte-municipios-y-periodos/resource/7e337e23-0506-4fb5-b395-4583e777e246\", \"accessURL\" : \"https://datos.canarias.es/api/estadisticas/statistical-resources/v1.0/datasets/ISTAC/E30417A_000014/1.0.csv\", \"format\" : {\"_about\" : \"https://datos.gob.es/catalogo/a05003423-defunciones-por-covid-19-de-residentes-en-canarias-segun-sexos-y-causa-de-muerte-municipios-y-periodos/resource/7e337e23-0506-4fb5-b395-4583e777e246/format\", \"type\" : \"http://purl.org/dc/terms/IMT\", \"value\" : \"text/csv\"}\\n        , \"title\" : [{\"_value\" : \"Cubo estad\\xc3\\xadstico. ISTAC:E30417A_000014 (CSV)\", \"_lang\" : \"es\"}\\n        ], \"type\" : \"http://www.w3.org/ns/dcat#Distribution\"}\\n      , {\"_about\" : \"https://datos.gob.es/catalogo/a05003423-defunciones-por-covid-19-de-residentes-en-canarias-segun-sexos-y-causa-de-muerte-municipios-y-periodos/resource/922de63f-f570-4f35-9a02-c1fa850c9174\", \"accessURL\" : \"https://datos.canarias.es/api/estadisticas/statistical-resources/v1.0/datasets/ISTAC/E30417A_000014/1.0.tsv\", \"format\" : {\"_about\" : \"https://datos.gob.es/catalogo/a05003423-defunciones-por-covid-19-de-residentes-en-canarias-segun-sexos-y-causa-de-muerte-municipios-y-periodos/resource/922de63f-f570-4f35-9a02-c1fa850c9174/format\", \"type\" : \"http://purl.org/dc/terms/IMT\", \"value\" : \"text/tab-separated-values\"}\\n        , \"title\" : [{\"_value\" : \"Cubo estad\\xc3\\xadstico. ISTAC:E30417A_000014 (TSV)\", \"_lang\" : \"es\"}\\n        ], \"type\" : \"http://www.w3.org/ns/dcat#Distribution\"}\\n      , {\"_about\" : \"https://datos.gob.es/catalogo/a05003423-defunciones-por-covid-19-de-residentes-en-canarias-segun-sexos-y-causa-de-muerte-municipios-y-periodos/resource/a474884b-8cda-4ddd-9025-17a42d9a9d50\", \"accessURL\" : \"https://datos.canarias.es/api/estadisticas/statistical-resources/v1.0/datasets/ISTAC/E30417A_000014/1.0.jsonstat\", \"format\" : {\"_about\" : \"https://datos.gob.es/catalogo/a05003423-defunciones-por-covid-19-de-residentes-en-canarias-segun-sexos-y-causa-de-muerte-municipios-y-periodos/resource/a474884b-8cda-4ddd-9025-17a42d9a9d50/format\", \"type\" : \"http://purl.org/dc/terms/IMT\", \"value\" : \"application/json\"}\\n        , \"title\" : [{\"_value\" : \"Cubo estad\\xc3\\xadstico. ISTAC:E30417A_000014 (JSONSTAT)\", \"_lang\" : \"es\"}\\n        ], \"type\" : \"http://www.w3.org/ns/dcat#Distribution\"}\\n      , {\"_about\" : \"https://datos.gob.es/catalogo/a05003423-defunciones-por-covid-19-de-residentes-en-canarias-segun-sexos-y-causa-de-muerte-municipios-y-periodos/resource/e5a9606e-e095-45b4-9b73-a16205548d7b\", \"accessURL\" : \"https://datos.canarias.es/api/estadisticas/statistical-resources/v1.0/datasets/ISTAC/E30417A_000014/1.0.xlsx\", \"format\" : {\"_about\" : \"https://datos.gob.es/catalogo/a05003423-defunciones-por-covid-19-de-residentes-en-canarias-segun-sexos-y-causa-de-muerte-municipios-y-periodos/resource/e5a9606e-e095-45b4-9b73-a16205548d7b/format\", \"type\" : \"http://purl.org/dc/terms/IMT\", \"value\" : \"application/vnd.openxmlformats-officedocument.spreadsheetml.sheet\"}\\n        , \"title\" : [{\"_value\" : \"Cubo estad\\xc3\\xadstico. ISTAC:E30417A_000014 (XLSX)\", \"_lang\" : \"es\"}\\n        ], \"type\" : \"http://www.w3.org/ns/dcat#Distribution\"}\\n      , {\"_about\" : \"https://datos.gob.es/catalogo/a05003423-defunciones-por-covid-19-de-residentes-en-canarias-segun-sexos-y-causa-de-muerte-municipios-y-periodos/resource/eb37420b-a19c-47e4-91f8-af267393ee9f\", \"accessURL\" : \"https://datos.canarias.es/api/estadisticas/statistical-resources/v1.0/datasets/ISTAC/E30417A_000014/1.0.json\", \"format\" : {\"_about\" : \"https://datos.gob.es/catalogo/a05003423-defunciones-por-covid-19-de-residentes-en-canarias-segun-sexos-y-causa-de-muerte-municipios-y-periodos/resource/eb37420b-a19c-47e4-91f8-af267393ee9f/format\", \"type\" : \"http://purl.org/dc/terms/IMT\", \"value\" : \"application/json\"}\\n        , \"title\" : [{\"_value\" : \"Cubo estad\\xc3\\xadstico. ISTAC:E30417A_000014 (JSON)\", \"_lang\" : \"es\"}\\n        ], \"type\" : \"http://www.w3.org/ns/dcat#Distribution\"}\\n      ], \"identifier\" : \"https://datos.canarias.es/catalogos/estadisticas/dataset/urn-siemac-org-siemac-metamac-infomodel-statisticalresources-dataset-istac-e30417a_000014\", \"issued\" : \"mi\\xc3\\xa9, 06 mar 2024 08:13:24 GMT+0000\", \"keyword\" : [{\"_value\" : \"Cubo estad\\xc3\\xadstico\", \"_lang\" : \"es\"}\\n      ], \"language\" : \"es\", \"license\" : \"http://www.gobiernodecanarias.org/istac/aviso_legal.html\", \"modified\" : \"mi\\xc3\\xa9, 06 mar 2024 08:13:24 GMT+0000\", \"publisher\" : \"http://datos.gob.es/recurso/sector-publico/org/Organismo/A05003423\", \"theme\" : [\"http://datos.gob.es/kos/sector-publico/sector/demografia\", \"http://datos.gob.es/kos/sector-publico/sector/legislacion-justicia\", \"http://datos.gob.es/kos/sector-publico/sector/salud\"], \"title\" : [{\"_value\" : \"Defunciones por covid-19 de residentes en Canarias seg\\xc3\\xban sexos y causa de muerte. Municipios y periodos\", \"_lang\" : \"es\"}\\n      ], \"type\" : \"http://www.w3.org/ns/dcat#Dataset\"}\\n    , {\"_about\" : \"https://datos.gob.es/catalogo/a05003423-exportaciones-segun-capitulos-arancelarios-y-territorios-de-destino-comercial-canarias-y-anos-desde-2000\", \"description\" : [{\"_value\" : \"Peso y valor de las exportaciones de bienes seg\\xc3\\xban cap\\xc3\\xadtulos arancelarios y territorios de destino comercial. Canarias y a\\xc3\\xb1os. Desde 2000\", \"_lang\" : \"es\"}\\n      ], \"distribution\" : [{\"_about\" : \"https://datos.gob.es/catalogo/a05003423-exportaciones-segun-capitulos-arancelarios-y-territorios-de-destino-comercial-canarias-y-anos-desde-2000/resource/0de40236-0879-4091-850a-ee0b9dc5cfb1\", \"accessURL\" : \"https://datos.canarias.es/api/estadisticas/statistical-resources/v1.0/datasets/ISTAC/C00038A_000012/1.1.csv\", \"format\" : {\"_about\" : \"https://datos.gob.es/catalogo/a05003423-exportaciones-segun-capitulos-arancelarios-y-territorios-de-destino-comercial-canarias-y-anos-desde-2000/resource/0de40236-0879-4091-850a-ee0b9dc5cfb1/format\", \"type\" : \"http://purl.org/dc/terms/IMT\", \"value\" : \"text/csv\"}\\n        , \"title\" : [{\"_value\" : \"Cubo estad\\xc3\\xadstico. ISTAC:C00038A_000012 (CSV)\", \"_lang\" : \"es\"}\\n        ], \"type\" : \"http://www.w3.org/ns/dcat#Distribution\"}\\n      , {\"_about\" : \"https://datos.gob.es/catalogo/a05003423-exportaciones-segun-capitulos-arancelarios-y-territorios-de-destino-comercial-canarias-y-anos-desde-2000/resource/18ab7a36-c0c3-4c13-811a-7e702ed30517\", \"accessURL\" : \"https://datos.canarias.es/api/estadisticas/statistical-resources/v1.0/datasets/ISTAC/C00038A_000012/1.1.xlsx\", \"format\" : {\"_about\" : \"https://datos.gob.es/catalogo/a05003423-exportaciones-segun-capitulos-arancelarios-y-territorios-de-destino-comercial-canarias-y-anos-desde-2000/resource/18ab7a36-c0c3-4c13-811a-7e702ed30517/format\", \"type\" : \"http://purl.org/dc/terms/IMT\", \"value\" : \"application/vnd.openxmlformats-officedocument.spreadsheetml.sheet\"}\\n        , \"title\" : [{\"_value\" : \"Cubo estad\\xc3\\xadstico. ISTAC:C00038A_000012 (XLSX)\", \"_lang\" : \"es\"}\\n        ], \"type\" : \"http://www.w3.org/ns/dcat#Distribution\"}\\n      , {\"_about\" : \"https://datos.gob.es/catalogo/a05003423-exportaciones-segun-capitulos-arancelarios-y-territorios-de-destino-comercial-canarias-y-anos-desde-2000/resource/343c507d-2d26-400c-bdd0-f5e779119548\", \"accessURL\" : \"https://datos.canarias.es/api/estadisticas/statistical-resources/v1.0/datasets/ISTAC/C00038A_000012/1.1.tsv\", \"format\" : {\"_about\" : \"https://datos.gob.es/catalogo/a05003423-exportaciones-segun-capitulos-arancelarios-y-territorios-de-destino-comercial-canarias-y-anos-desde-2000/resource/343c507d-2d26-400c-bdd0-f5e779119548/format\", \"type\" : \"http://purl.org/dc/terms/IMT\", \"value\" : \"text/tab-separated-values\"}\\n        , \"title\" : [{\"_value\" : \"Cubo estad\\xc3\\xadstico. ISTAC:C00038A_000012 (TSV)\", \"_lang\" : \"es\"}\\n        ], \"type\" : \"http://www.w3.org/ns/dcat#Distribution\"}\\n      , {\"_about\" : \"https://datos.gob.es/catalogo/a05003423-exportaciones-segun-capitulos-arancelarios-y-territorios-de-destino-comercial-canarias-y-anos-desde-2000/resource/86f10332-98eb-46f7-9804-04325fda2717\", \"accessURL\" : \"https://datos.canarias.es/api/estadisticas/statistical-resources/v1.0/datasets/ISTAC/C00038A_000012/1.1.xml\", \"format\" : {\"_about\" : \"https://datos.gob.es/catalogo/a05003423-exportaciones-segun-capitulos-arancelarios-y-territorios-de-destino-comercial-canarias-y-anos-desde-2000/resource/86f10332-98eb-46f7-9804-04325fda2717/format\", \"type\" : \"http://purl.org/dc/terms/IMT\", \"value\" : \"application/xml\"}\\n        , \"title\" : [{\"_value\" : \"Cubo estad\\xc3\\xadstico. ISTAC:C00038A_000012 (XML)\", \"_lang\" : \"es\"}\\n        ], \"type\" : \"http://www.w3.org/ns/dcat#Distribution\"}\\n      , {\"_about\" : \"https://datos.gob.es/catalogo/a05003423-exportaciones-segun-capitulos-arancelarios-y-territorios-de-destino-comercial-canarias-y-anos-desde-2000/resource/9714882f-036b-4fb1-8455-ba4c07e19ad2\", \"accessURL\" : \"https://datos.canarias.es/api/estadisticas/statistical-resources/v1.0/datasets/ISTAC/C00038A_000012/1.1.json\", \"format\" : {\"_about\" : \"https://datos.gob.es/catalogo/a05003423-exportaciones-segun-capitulos-arancelarios-y-territorios-de-destino-comercial-canarias-y-anos-desde-2000/resource/9714882f-036b-4fb1-8455-ba4c07e19ad2/format\", \"type\" : \"http://purl.org/dc/terms/IMT\", \"value\" : \"application/json\"}\\n        , \"title\" : [{\"_value\" : \"Cubo estad\\xc3\\xadstico. ISTAC:C00038A_000012 (JSON)\", \"_lang\" : \"es\"}\\n        ], \"type\" : \"http://www.w3.org/ns/dcat#Distribution\"}\\n      , {\"_about\" : \"https://datos.gob.es/catalogo/a05003423-exportaciones-segun-capitulos-arancelarios-y-territorios-de-destino-comercial-canarias-y-anos-desde-2000/resource/b04b2865-a410-4b1f-ac3c-39686b2cf6bf\", \"accessURL\" : \"https://datos.canarias.es/api/estadisticas/statistical-resources/v1.0/datasets/ISTAC/C00038A_000012/1.1.jsonstat\", \"format\" : {\"_about\" : \"https://datos.gob.es/catalogo/a05003423-exportaciones-segun-capitulos-arancelarios-y-territorios-de-destino-comercial-canarias-y-anos-desde-2000/resource/b04b2865-a410-4b1f-ac3c-39686b2cf6bf/format\", \"type\" : \"http://purl.org/dc/terms/IMT\", \"value\" : \"application/json\"}\\n        , \"title\" : [{\"_value\" : \"Cubo estad\\xc3\\xadstico. ISTAC:C00038A_000012 (JSONSTAT)\", \"_lang\" : \"es\"}\\n        ], \"type\" : \"http://www.w3.org/ns/dcat#Distribution\"}\\n      ], \"identifier\" : \"https://datos.canarias.es/catalogos/estadisticas/dataset/urn-siemac-org-siemac-metamac-infomodel-statisticalresources-dataset-istac-c00038a_000012\", \"issued\" : \"lun, 11 mar 2024 11:38:20 GMT+0000\", \"keyword\" : [{\"_value\" : \"Cubo estad\\xc3\\xadstico\", \"_lang\" : \"es\"}\\n      ], \"language\" : \"es\", \"license\" : \"http://www.gobiernodecanarias.org/istac/aviso_legal.html\", \"modified\" : \"mar, 09 abr 2024 11:22:58 GMT+0000\", \"publisher\" : \"http://datos.gob.es/recurso/sector-publico/org/Organismo/A05003423\", \"theme\" : \"http://datos.gob.es/kos/sector-publico/sector/comercio\", \"title\" : [{\"_value\" : \"Exportaciones seg\\xc3\\xban cap\\xc3\\xadtulos arancelarios y territorios de destino comercial. Canarias y a\\xc3\\xb1os. Desde 2000\", \"_lang\" : \"es\"}\\n      ], \"type\" : \"http://www.w3.org/ns/dcat#Dataset\"}\\n    , {\"_about\" : \"https://datos.gob.es/catalogo/a05003423-importaciones-segun-capitulos-arancelarios-y-territorios-de-origen-comercial-canarias-y-anos-desde-2000\", \"description\" : [{\"_value\" : \"Peso y valor de las importaciones de bienes seg\\xc3\\xban cap\\xc3\\xadtulos arancelarios y territorios de origen comercial. Canarias y a\\xc3\\xb1os. Desde 2000\", \"_lang\" : \"es\"}\\n      ], \"distribution\" : [{\"_about\" : \"https://datos.gob.es/catalogo/a05003423-importaciones-segun-capitulos-arancelarios-y-territorios-de-origen-comercial-canarias-y-anos-desde-2000/resource/02c10278-4ae8-4c22-8b8a-c5832de2185a\", \"accessURL\" : \"https://datos.canarias.es/api/estadisticas/statistical-resources/v1.0/datasets/ISTAC/C00038A_000011/1.1.csv\", \"format\" : {\"_about\" : \"https://datos.gob.es/catalogo/a05003423-importaciones-segun-capitulos-arancelarios-y-territorios-de-origen-comercial-canarias-y-anos-desde-2000/resource/02c10278-4ae8-4c22-8b8a-c5832de2185a/format\", \"type\" : \"http://purl.org/dc/terms/IMT\", \"value\" : \"text/csv\"}\\n        , \"title\" : [{\"_value\" : \"Cubo estad\\xc3\\xadstico. ISTAC:C00038A_000011 (CSV)\", \"_lang\" : \"es\"}\\n        ], \"type\" : \"http://www.w3.org/ns/dcat#Distribution\"}\\n      , {\"_about\" : \"https://datos.gob.es/catalogo/a05003423-importaciones-segun-capitulos-arancelarios-y-territorios-de-origen-comercial-canarias-y-anos-desde-2000/resource/16b511bc-2127-4f4e-a414-95beab91b84a\", \"accessURL\" : \"https://datos.canarias.es/api/estadisticas/statistical-resources/v1.0/datasets/ISTAC/C00038A_000011/1.1.jsonstat\", \"format\" : {\"_about\" : \"https://datos.gob.es/catalogo/a05003423-importaciones-segun-capitulos-arancelarios-y-territorios-de-origen-comercial-canarias-y-anos-desde-2000/resource/16b511bc-2127-4f4e-a414-95beab91b84a/format\", \"type\" : \"http://purl.org/dc/terms/IMT\", \"value\" : \"application/json\"}\\n        , \"title\" : [{\"_value\" : \"Cubo estad\\xc3\\xadstico. ISTAC:C00038A_000011 (JSONSTAT)\", \"_lang\" : \"es\"}\\n        ], \"type\" : \"http://www.w3.org/ns/dcat#Distribution\"}\\n      , {\"_about\" : \"https://datos.gob.es/catalogo/a05003423-importaciones-segun-capitulos-arancelarios-y-territorios-de-origen-comercial-canarias-y-anos-desde-2000/resource/5b5b6fcd-fce6-41d2-a030-f1136c437d45\", \"accessURL\" : \"https://datos.canarias.es/api/estadisticas/statistical-resources/v1.0/datasets/ISTAC/C00038A_000011/1.1.xlsx\", \"format\" : {\"_about\" : \"https://datos.gob.es/catalogo/a05003423-importaciones-segun-capitulos-arancelarios-y-territorios-de-origen-comercial-canarias-y-anos-desde-2000/resource/5b5b6fcd-fce6-41d2-a030-f1136c437d45/format\", \"type\" : \"http://purl.org/dc/terms/IMT\", \"value\" : \"application/vnd.openxmlformats-officedocument.spreadsheetml.sheet\"}\\n        , \"title\" : [{\"_value\" : \"Cubo estad\\xc3\\xadstico. ISTAC:C00038A_000011 (XLSX)\", \"_lang\" : \"es\"}\\n        ], \"type\" : \"http://www.w3.org/ns/dcat#Distribution\"}\\n      , {\"_about\" : \"https://datos.gob.es/catalogo/a05003423-importaciones-segun-capitulos-arancelarios-y-territorios-de-origen-comercial-canarias-y-anos-desde-2000/resource/5dced8b2-8373-4809-b048-fe7b0ee02dc6\", \"accessURL\" : \"https://datos.canarias.es/api/estadisticas/statistical-resources/v1.0/datasets/ISTAC/C00038A_000011/1.1.json\", \"format\" : {\"_about\" : \"https://datos.gob.es/catalogo/a05003423-importaciones-segun-capitulos-arancelarios-y-territorios-de-origen-comercial-canarias-y-anos-desde-2000/resource/5dced8b2-8373-4809-b048-fe7b0ee02dc6/format\", \"type\" : \"http://purl.org/dc/terms/IMT\", \"value\" : \"application/json\"}\\n        , \"title\" : [{\"_value\" : \"Cubo estad\\xc3\\xadstico. ISTAC:C00038A_000011 (JSON)\", \"_lang\" : \"es\"}\\n        ], \"type\" : \"http://www.w3.org/ns/dcat#Distribution\"}\\n      , {\"_about\" : \"https://datos.gob.es/catalogo/a05003423-importaciones-segun-capitulos-arancelarios-y-territorios-de-origen-comercial-canarias-y-anos-desde-2000/resource/692f88df-7293-460b-9016-3253191cf91c\", \"accessURL\" : \"https://datos.canarias.es/api/estadisticas/statistical-resources/v1.0/datasets/ISTAC/C00038A_000011/1.1.tsv\", \"format\" : {\"_about\" : \"https://datos.gob.es/catalogo/a05003423-importaciones-segun-capitulos-arancelarios-y-territorios-de-origen-comercial-canarias-y-anos-desde-2000/resource/692f88df-7293-460b-9016-3253191cf91c/format\", \"type\" : \"http://purl.org/dc/terms/IMT\", \"value\" : \"text/tab-separated-values\"}\\n        , \"title\" : [{\"_value\" : \"Cubo estad\\xc3\\xadstico. ISTAC:C00038A_000011 (TSV)\", \"_lang\" : \"es\"}\\n        ], \"type\" : \"http://www.w3.org/ns/dcat#Distribution\"}\\n      , {\"_about\" : \"https://datos.gob.es/catalogo/a05003423-importaciones-segun-capitulos-arancelarios-y-territorios-de-origen-comercial-canarias-y-anos-desde-2000/resource/cecfede0-5d71-4b3c-b2d9-7d8b36ce2a65\", \"accessURL\" : \"https://datos.canarias.es/api/estadisticas/statistical-resources/v1.0/datasets/ISTAC/C00038A_000011/1.1.xml\", \"format\" : {\"_about\" : \"https://datos.gob.es/catalogo/a05003423-importaciones-segun-capitulos-arancelarios-y-territorios-de-origen-comercial-canarias-y-anos-desde-2000/resource/cecfede0-5d71-4b3c-b2d9-7d8b36ce2a65/format\", \"type\" : \"http://purl.org/dc/terms/IMT\", \"value\" : \"application/xml\"}\\n        , \"title\" : [{\"_value\" : \"Cubo estad\\xc3\\xadstico. ISTAC:C00038A_000011 (XML)\", \"_lang\" : \"es\"}\\n        ], \"type\" : \"http://www.w3.org/ns/dcat#Distribution\"}\\n      ], \"identifier\" : \"https://datos.canarias.es/catalogos/estadisticas/dataset/urn-siemac-org-siemac-metamac-infomodel-statisticalresources-dataset-istac-c00038a_000011\", \"issued\" : \"lun, 11 mar 2024 11:38:01 GMT+0000\", \"keyword\" : [{\"_value\" : \"Cubo estad\\xc3\\xadstico\", \"_lang\" : \"es\"}\\n      ], \"language\" : \"es\", \"license\" : \"http://www.gobiernodecanarias.org/istac/aviso_legal.html\", \"modified\" : \"mar, 09 abr 2024 11:22:55 GMT+0000\", \"publisher\" : \"http://datos.gob.es/recurso/sector-publico/org/Organismo/A05003423\", \"theme\" : \"http://datos.gob.es/kos/sector-publico/sector/comercio\", \"title\" : [{\"_value\" : \"Importaciones seg\\xc3\\xban cap\\xc3\\xadtulos arancelarios y territorios de origen comercial. Canarias y a\\xc3\\xb1os. Desde 2000\", \"_lang\" : \"es\"}\\n      ], \"type\" : \"http://www.w3.org/ns/dcat#Dataset\"}\\n    , {\"_about\" : \"https://datos.gob.es/catalogo/a05003423-importaciones-y-exportaciones-segun-capitulos-arancelarios-y-zonas-economicas-y-geograficas-canarias-y-anos-desde-2000\", \"description\" : [{\"_value\" : \"Peso y valor de las importaciones y exportaciones de bienes seg\\xc3\\xban cap\\xc3\\xadtulos arancelarios y zonas econ\\xc3\\xb3micas y geogr\\xc3\\xa1ficas. Canarias y a\\xc3\\xb1os. Desde 2000.\", \"_lang\" : \"es\"}\\n      ], \"distribution\" : [{\"_about\" : \"https://datos.gob.es/catalogo/a05003423-importaciones-y-exportaciones-segun-capitulos-arancelarios-y-zonas-economicas-y-geograficas-canarias-y-anos-desde-2000/resource/30ec7aff-67d2-4bc1-a024-0eaa38966334\", \"accessURL\" : \"https://datos.canarias.es/api/estadisticas/statistical-resources/v1.0/datasets/ISTAC/C00038A_000004/1.1.csv\", \"format\" : {\"_about\" : \"https://datos.gob.es/catalogo/a05003423-importaciones-y-exportaciones-segun-capitulos-arancelarios-y-zonas-economicas-y-geograficas-canarias-y-anos-desde-2000/resource/30ec7aff-67d2-4bc1-a024-0eaa38966334/format\", \"type\" : \"http://purl.org/dc/terms/IMT\", \"value\" : \"text/csv\"}\\n        , \"title\" : [{\"_value\" : \"Cubo estad\\xc3\\xadstico. ISTAC:C00038A_000004 (CSV)\", \"_lang\" : \"es\"}\\n        ], \"type\" : \"http://www.w3.org/ns/dcat#Distribution\"}\\n      , {\"_about\" : \"https://datos.gob.es/catalogo/a05003423-importaciones-y-exportaciones-segun-capitulos-arancelarios-y-zonas-economicas-y-geograficas-canarias-y-anos-desde-2000/resource/4bdecbc9-7af8-41d3-a4cc-f6ebca69e6c1\", \"accessURL\" : \"https://datos.canarias.es/api/estadisticas/statistical-resources/v1.0/datasets/ISTAC/C00038A_000004/1.1.json\", \"format\" : {\"_about\" : \"https://datos.gob.es/catalogo/a05003423-importaciones-y-exportaciones-segun-capitulos-arancelarios-y-zonas-economicas-y-geograficas-canarias-y-anos-desde-2000/resource/4bdecbc9-7af8-41d3-a4cc-f6ebca69e6c1/format\", \"type\" : \"http://purl.org/dc/terms/IMT\", \"value\" : \"application/json\"}\\n        , \"title\" : [{\"_value\" : \"Cubo estad\\xc3\\xadstico. ISTAC:C00038A_000004 (JSON)\", \"_lang\" : \"es\"}\\n        ], \"type\" : \"http://www.w3.org/ns/dcat#Distribution\"}\\n      , {\"_about\" : \"https://datos.gob.es/catalogo/a05003423-importaciones-y-exportaciones-segun-capitulos-arancelarios-y-zonas-economicas-y-geograficas-canarias-y-anos-desde-2000/resource/75a90b10-6264-4115-9923-23ebb51b9f57\", \"accessURL\" : \"https://datos.canarias.es/api/estadisticas/statistical-resources/v1.0/datasets/ISTAC/C00038A_000004/1.1.xml\", \"format\" : {\"_about\" : \"https://datos.gob.es/catalogo/a05003423-importaciones-y-exportaciones-segun-capitulos-arancelarios-y-zonas-economicas-y-geograficas-canarias-y-anos-desde-2000/resource/75a90b10-6264-4115-9923-23ebb51b9f57/format\", \"type\" : \"http://purl.org/dc/terms/IMT\", \"value\" : \"application/xml\"}\\n        , \"title\" : [{\"_value\" : \"Cubo estad\\xc3\\xadstico. ISTAC:C00038A_000004 (XML)\", \"_lang\" : \"es\"}\\n        ], \"type\" : \"http://www.w3.org/ns/dcat#Distribution\"}\\n      , {\"_about\" : \"https://datos.gob.es/catalogo/a05003423-importaciones-y-exportaciones-segun-capitulos-arancelarios-y-zonas-economicas-y-geograficas-canarias-y-anos-desde-2000/resource/9966036b-6aa8-4fb3-8349-dd40ce0ddf9e\", \"accessURL\" : \"https://datos.canarias.es/api/estadisticas/statistical-resources/v1.0/datasets/ISTAC/C00038A_000004/1.1.jsonstat\", \"format\" : {\"_about\" : \"https://datos.gob.es/catalogo/a05003423-importaciones-y-exportaciones-segun-capitulos-arancelarios-y-zonas-economicas-y-geograficas-canarias-y-anos-desde-2000/resource/9966036b-6aa8-4fb3-8349-dd40ce0ddf9e/format\", \"type\" : \"http://purl.org/dc/terms/IMT\", \"value\" : \"application/json\"}\\n        , \"title\" : [{\"_value\" : \"Cubo estad\\xc3\\xadstico. ISTAC:C00038A_000004 (JSONSTAT)\", \"_lang\" : \"es\"}\\n        ], \"type\" : \"http://www.w3.org/ns/dcat#Distribution\"}\\n      , {\"_about\" : \"https://datos.gob.es/catalogo/a05003423-importaciones-y-exportaciones-segun-capitulos-arancelarios-y-zonas-economicas-y-geograficas-canarias-y-anos-desde-2000/resource/c701477b-f59e-456a-a597-a4c98f8f6d0a\", \"accessURL\" : \"https://datos.canarias.es/api/estadisticas/statistical-resources/v1.0/datasets/ISTAC/C00038A_000004/1.1.tsv\", \"format\" : {\"_about\" : \"https://datos.gob.es/catalogo/a05003423-importaciones-y-exportaciones-segun-capitulos-arancelarios-y-zonas-economicas-y-geograficas-canarias-y-anos-desde-2000/resource/c701477b-f59e-456a-a597-a4c98f8f6d0a/format\", \"type\" : \"http://purl.org/dc/terms/IMT\", \"value\" : \"text/tab-separated-values\"}\\n        , \"title\" : [{\"_value\" : \"Cubo estad\\xc3\\xadstico. ISTAC:C00038A_000004 (TSV)\", \"_lang\" : \"es\"}\\n        ], \"type\" : \"http://www.w3.org/ns/dcat#Distribution\"}\\n      , {\"_about\" : \"https://datos.gob.es/catalogo/a05003423-importaciones-y-exportaciones-segun-capitulos-arancelarios-y-zonas-economicas-y-geograficas-canarias-y-anos-desde-2000/resource/dc543fae-ffeb-494b-aced-d8dece4bafb1\", \"accessURL\" : \"https://datos.canarias.es/api/estadisticas/statistical-resources/v1.0/datasets/ISTAC/C00038A_000004/1.1.xlsx\", \"format\" : {\"_about\" : \"https://datos.gob.es/catalogo/a05003423-importaciones-y-exportaciones-segun-capitulos-arancelarios-y-zonas-economicas-y-geograficas-canarias-y-anos-desde-2000/resource/dc543fae-ffeb-494b-aced-d8dece4bafb1/format\", \"type\" : \"http://purl.org/dc/terms/IMT\", \"value\" : \"application/vnd.openxmlformats-officedocument.spreadsheetml.sheet\"}\\n        , \"title\" : [{\"_value\" : \"Cubo estad\\xc3\\xadstico. ISTAC:C00038A_000004 (XLSX)\", \"_lang\" : \"es\"}\\n        ], \"type\" : \"http://www.w3.org/ns/dcat#Distribution\"}\\n      ], \"identifier\" : \"https://datos.canarias.es/catalogos/estadisticas/dataset/urn-siemac-org-siemac-metamac-infomodel-statisticalresources-dataset-istac-c00038a_000004\", \"issued\" : \"lun, 11 mar 2024 11:23:33 GMT+0000\", \"keyword\" : [{\"_value\" : \"Cubo estad\\xc3\\xadstico\", \"_lang\" : \"es\"}\\n      ], \"language\" : \"es\", \"license\" : \"http://www.gobiernodecanarias.org/istac/aviso_legal.html\", \"modified\" : \"mar, 09 abr 2024 11:22:33 GMT+0000\", \"publisher\" : \"http://datos.gob.es/recurso/sector-publico/org/Organismo/A05003423\", \"theme\" : \"http://datos.gob.es/kos/sector-publico/sector/comercio\", \"title\" : [{\"_value\" : \"Importaciones y exportaciones seg\\xc3\\xban cap\\xc3\\xadtulos arancelarios y zonas econ\\xc3\\xb3micas y geogr\\xc3\\xa1ficas. Canarias y a\\xc3\\xb1os. Desde 2000\", \"_lang\" : \"es\"}\\n      ], \"type\" : \"http://www.w3.org/ns/dcat#Dataset\"}\\n    , {\"_about\" : \"https://datos.gob.es/catalogo/a05003423-importaciones-y-exportaciones-segun-capitulos-y-partidas-arancelarias-canarias-y-anos-desde-2000\", \"description\" : [{\"_value\" : \"Peso y valor de las importaciones y exportaciones de bienes seg\\xc3\\xban cap\\xc3\\xadtulos y partidas arancelarias. Canarias y a\\xc3\\xb1os. Desde 2000\", \"_lang\" : \"es\"}\\n      ], \"distribution\" : [{\"_about\" : \"https://datos.gob.es/catalogo/a05003423-importaciones-y-exportaciones-segun-capitulos-y-partidas-arancelarias-canarias-y-anos-desde-2000/resource/5e02cfc4-e440-401d-b975-9005982278ca\", \"accessURL\" : \"https://datos.canarias.es/api/estadisticas/statistical-resources/v1.0/datasets/ISTAC/C00038A_000010/1.1.xlsx\", \"format\" : {\"_about\" : \"https://datos.gob.es/catalogo/a05003423-importaciones-y-exportaciones-segun-capitulos-y-partidas-arancelarias-canarias-y-anos-desde-2000/resource/5e02cfc4-e440-401d-b975-9005982278ca/format\", \"type\" : \"http://purl.org/dc/terms/IMT\", \"value\" : \"application/vnd.openxmlformats-officedocument.spreadsheetml.sheet\"}\\n        , \"title\" : [{\"_value\" : \"Cubo estad\\xc3\\xadstico. ISTAC:C00038A_000010 (XLSX)\", \"_lang\" : \"es\"}\\n        ], \"type\" : \"http://www.w3.org/ns/dcat#Distribution\"}\\n      , {\"_about\" : \"https://datos.gob.es/catalogo/a05003423-importaciones-y-exportaciones-segun-capitulos-y-partidas-arancelarias-canarias-y-anos-desde-2000/resource/7077cfe2-e652-42c2-985e-0e52d305c886\", \"accessURL\" : \"https://datos.canarias.es/api/estadisticas/statistical-resources/v1.0/datasets/ISTAC/C00038A_000010/1.1.jsonstat\", \"format\" : {\"_about\" : \"https://datos.gob.es/catalogo/a05003423-importaciones-y-exportaciones-segun-capitulos-y-partidas-arancelarias-canarias-y-anos-desde-2000/resource/7077cfe2-e652-42c2-985e-0e52d305c886/format\", \"type\" : \"http://purl.org/dc/terms/IMT\", \"value\" : \"application/json\"}\\n        , \"title\" : [{\"_value\" : \"Cubo estad\\xc3\\xadstico. ISTAC:C00038A_000010 (JSONSTAT)\", \"_lang\" : \"es\"}\\n        ], \"type\" : \"http://www.w3.org/ns/dcat#Distribution\"}\\n      , {\"_about\" : \"https://datos.gob.es/catalogo/a05003423-importaciones-y-exportaciones-segun-capitulos-y-partidas-arancelarias-canarias-y-anos-desde-2000/resource/739b4d3a-cbd7-4467-a5c3-11b021dd35a9\", \"accessURL\" : \"https://datos.canarias.es/api/estadisticas/statistical-resources/v1.0/datasets/ISTAC/C00038A_000010/1.1.json\", \"format\" : {\"_about\" : \"https://datos.gob.es/catalogo/a05003423-importaciones-y-exportaciones-segun-capitulos-y-partidas-arancelarias-canarias-y-anos-desde-2000/resource/739b4d3a-cbd7-4467-a5c3-11b021dd35a9/format\", \"type\" : \"http://purl.org/dc/terms/IMT\", \"value\" : \"application/json\"}\\n        , \"title\" : [{\"_value\" : \"Cubo estad\\xc3\\xadstico. ISTAC:C00038A_000010 (JSON)\", \"_lang\" : \"es\"}\\n        ], \"type\" : \"http://www.w3.org/ns/dcat#Distribution\"}\\n      , {\"_about\" : \"https://datos.gob.es/catalogo/a05003423-importaciones-y-exportaciones-segun-capitulos-y-partidas-arancelarias-canarias-y-anos-desde-2000/resource/b080d0a6-eaf8-49e1-8109-8bd29189e54d\", \"accessURL\" : \"https://datos.canarias.es/api/estadisticas/statistical-resources/v1.0/datasets/ISTAC/C00038A_000010/1.1.xml\", \"format\" : {\"_about\" : \"https://datos.gob.es/catalogo/a05003423-importaciones-y-exportaciones-segun-capitulos-y-partidas-arancelarias-canarias-y-anos-desde-2000/resource/b080d0a6-eaf8-49e1-8109-8bd29189e54d/format\", \"type\" : \"http://purl.org/dc/terms/IMT\", \"value\" : \"application/xml\"}\\n        , \"title\" : [{\"_value\" : \"Cubo estad\\xc3\\xadstico. ISTAC:C00038A_000010 (XML)\", \"_lang\" : \"es\"}\\n        ], \"type\" : \"http://www.w3.org/ns/dcat#Distribution\"}\\n      , {\"_about\" : \"https://datos.gob.es/catalogo/a05003423-importaciones-y-exportaciones-segun-capitulos-y-partidas-arancelarias-canarias-y-anos-desde-2000/resource/bf13b157-3f98-466a-b792-5b33ddc90941\", \"accessURL\" : \"https://datos.canarias.es/api/estadisticas/statistical-resources/v1.0/datasets/ISTAC/C00038A_000010/1.1.csv\", \"format\" : {\"_about\" : \"https://datos.gob.es/catalogo/a05003423-importaciones-y-exportaciones-segun-capitulos-y-partidas-arancelarias-canarias-y-anos-desde-2000/resource/bf13b157-3f98-466a-b792-5b33ddc90941/format\", \"type\" : \"http://purl.org/dc/terms/IMT\", \"value\" : \"text/csv\"}\\n        , \"title\" : [{\"_value\" : \"Cubo estad\\xc3\\xadstico. ISTAC:C00038A_000010 (CSV)\", \"_lang\" : \"es\"}\\n        ], \"type\" : \"http://www.w3.org/ns/dcat#Distribution\"}\\n      , {\"_about\" : \"https://datos.gob.es/catalogo/a05003423-importaciones-y-exportaciones-segun-capitulos-y-partidas-arancelarias-canarias-y-anos-desde-2000/resource/f0fb93f9-828f-4438-98e0-6587d711b50a\", \"accessURL\" : \"https://datos.canarias.es/api/estadisticas/statistical-resources/v1.0/datasets/ISTAC/C00038A_000010/1.1.tsv\", \"format\" : {\"_about\" : \"https://datos.gob.es/catalogo/a05003423-importaciones-y-exportaciones-segun-capitulos-y-partidas-arancelarias-canarias-y-anos-desde-2000/resource/f0fb93f9-828f-4438-98e0-6587d711b50a/format\", \"type\" : \"http://purl.org/dc/terms/IMT\", \"value\" : \"text/tab-separated-values\"}\\n        , \"title\" : [{\"_value\" : \"Cubo estad\\xc3\\xadstico. ISTAC:C00038A_000010 (TSV)\", \"_lang\" : \"es\"}\\n        ], \"type\" : \"http://www.w3.org/ns/dcat#Distribution\"}\\n      ], \"identifier\" : \"https://datos.canarias.es/catalogos/estadisticas/dataset/urn-siemac-org-siemac-metamac-infomodel-statisticalresources-dataset-istac-c00038a_000010\", \"issued\" : \"lun, 11 mar 2024 11:37:41 GMT+0000\", \"keyword\" : [{\"_value\" : \"Cubo estad\\xc3\\xadstico\", \"_lang\" : \"es\"}\\n      ], \"language\" : \"es\", \"license\" : \"http://www.gobiernodecanarias.org/istac/aviso_legal.html\", \"modified\" : \"mar, 09 abr 2024 11:22:52 GMT+0000\", \"publisher\" : \"http://datos.gob.es/recurso/sector-publico/org/Organismo/A05003423\", \"theme\" : \"http://datos.gob.es/kos/sector-publico/sector/comercio\", \"title\" : [{\"_value\" : \"Importaciones y exportaciones seg\\xc3\\xban cap\\xc3\\xadtulos y partidas arancelarias. Canarias y a\\xc3\\xb1os. Desde 2000\", \"_lang\" : \"es\"}\\n      ], \"type\" : \"http://www.w3.org/ns/dcat#Dataset\"}\\n    ], \"itemsPerPage\" : 10, \"next\" : \"http://datos.gob.es/apidata/catalog/dataset.json?_page=1\", \"page\" : 0, \"startIndex\" : 1, \"type\" : [\"http://purl.org/linked-data/api/vocab#ListEndpoint\", \"http://purl.org/linked-data/api/vocab#Page\"]}\\n}\\n'\n"
     ]
    }
   ],
   "source": [
    "print(response.content)"
   ]
  },
  {
   "cell_type": "code",
   "execution_count": 10,
   "metadata": {},
   "outputs": [],
   "source": [
    "data = response.json()"
   ]
  },
  {
   "cell_type": "code",
   "execution_count": 9,
   "metadata": {},
   "outputs": [
    {
     "data": {
      "text/plain": [
       "{'Server': 'nginx', 'Date': 'Wed, 23 Oct 2024 14:08:40 GMT', 'Content-Type': 'text/html;charset=UTF-8', 'Connection': 'keep-alive', 'Access-Control-Allow-Origin': '*', 'Vary': 'Accept', 'Content-Location': 'http://datos.gob.es/apidata/catalog/dataset.json', 'Age': '0', 'X-Frame-Options': 'SAMEORIGIN', 'X-Content-Type-Options': 'nosniff', 'X-XSS-Protection': '1; mode=block', 'set-cookie': 'TBMCookie_17460614957481959821=450750001729692450XrpcphxhjYec5D3jXng3SFbQ5BE=; path=/, ___utmvm=###########; path=/', 'Transfer-Encoding': 'chunked'}"
      ]
     },
     "execution_count": 9,
     "metadata": {},
     "output_type": "execute_result"
    }
   ],
   "source": [
    "response.headers"
   ]
  },
  {
   "cell_type": "code",
   "execution_count": 11,
   "metadata": {},
   "outputs": [
    {
     "data": {
      "text/plain": [
       "dict_keys(['format', 'version', 'result'])"
      ]
     },
     "execution_count": 11,
     "metadata": {},
     "output_type": "execute_result"
    }
   ],
   "source": [
    "data.keys()"
   ]
  },
  {
   "cell_type": "code",
   "execution_count": 15,
   "metadata": {},
   "outputs": [
    {
     "data": {
      "text/plain": [
       "dict_keys(['_about', 'definition', 'extendedMetadataVersion', 'first', 'hasPart', 'isPartOf', 'items', 'itemsPerPage', 'next', 'page', 'startIndex', 'type'])"
      ]
     },
     "execution_count": 15,
     "metadata": {},
     "output_type": "execute_result"
    }
   ],
   "source": [
    "data['result'].keys()"
   ]
  },
  {
   "cell_type": "code",
   "execution_count": 17,
   "metadata": {},
   "outputs": [
    {
     "data": {
      "text/plain": [
       "'http://datos.gob.es/apidata/catalog/dataset.json'"
      ]
     },
     "execution_count": 17,
     "metadata": {},
     "output_type": "execute_result"
    }
   ],
   "source": [
    "data['result']['_about']"
   ]
  },
  {
   "cell_type": "code",
   "execution_count": 23,
   "metadata": {},
   "outputs": [
    {
     "name": "stdout",
     "output_type": "stream",
     "text": [
      "Título: [{'_value': 'Clasificación de establecimientos de restauración (ISTAC: CL_CNAE_2009_RESTAURACION)', '_lang': 'es'}]\n",
      "Descripción: [{'_value': 'Clasificación que recoge los diferentes tipos de establecimientos de restauración. Esta basada en la CNAE 2009 y recoge aquellas actividades relacionadas con la prestación de servicios de restauración en las Islas Canarias. Además, recoge aquellos establecimientos de restauración encontrados en los decretos DECRETO 90/2010, de 22 de julio, por el que se regula la actividad turística de restauración y los establecimientos donde se desarrolla y DECRETO 83/2013, de 1 de agosto, por el que se regulan la actividad de comercialización temporal de vino de cosecha propia y los establecimientos donde se desarrolla, que no poseen una clasificación específica en la CNAE 2009 y que son necesarios para satisfacer las necesidades del ISTAC.', '_lang': 'es'}]\n",
      "URL del dataset: URL no disponible\n",
      "\n",
      "Título: [{'_value': 'Defunciones de no residentes según sexos, grupos de edad y causas de muerte (grandes grupos de CIE - 10). Canarias por año', '_lang': 'es'}]\n",
      "Descripción: [{'_value': 'En esta tabla se ofrecen datos desde 1999 sobre las defunciones de no residentes según sexos, grupos de edad y causas de muerte (grandes grupos de CIE - 10). La información se desagrega territorialmente a nivel de Canarias.', '_lang': 'es'}]\n",
      "URL del dataset: URL no disponible\n",
      "\n",
      "Título: [{'_value': 'Defunciones por ahogamiento y sumersión accidental inscritas en Canarias según sexos. Municipios y periodos', '_lang': 'es'}]\n",
      "Descripción: [{'_value': 'En esta tabla se ofrecen datos desde 2010 sobre ahogamientos y sumersiones según sexos. La información se desagrega territorialmente a nivel municipios de Canarias.', '_lang': 'es'}]\n",
      "URL del dataset: URL no disponible\n",
      "\n",
      "Título: [{'_value': 'Defunciones por ahogamiento y sumersión accidental inscritas en Canarias según sexos y grupos de edad. Islas y periodos', '_lang': 'es'}]\n",
      "Descripción: [{'_value': 'En esta tabla se ofrecen datos desde 2010 sobre ahogamientos y sumersiones según sexos y grupos de edad. La información se desagrega territorialmente a nivel islas de Canarias.', '_lang': 'es'}]\n",
      "URL del dataset: URL no disponible\n",
      "\n",
      "Título: [{'_value': 'Defunciones por covid-19 de residentes en Canarias según periodo de la defunción y causa de muerte. Islas por año', '_lang': 'es'}]\n",
      "Descripción: [{'_value': 'En esta tabla se ofrecen datos desde 2020 sobre la covid-19 según periodos de la defunción. La información se desagrega territorialmente a nivel islas de Canarias.', '_lang': 'es'}]\n",
      "URL del dataset: URL no disponible\n",
      "\n",
      "Título: [{'_value': 'Defunciones por covid-19 de residentes en Canarias según sexos y causa de muerte. Municipios y periodos', '_lang': 'es'}]\n",
      "Descripción: [{'_value': 'En esta tabla se ofrecen datos desde 2020 sobre la covid-19 según sexos y causa de muerte. La información se desagrega territorialmente a nivel municipios de Canarias.', '_lang': 'es'}]\n",
      "URL del dataset: URL no disponible\n",
      "\n",
      "Título: [{'_value': 'Exportaciones según capítulos arancelarios y territorios de destino comercial. Canarias y años. Desde 2000', '_lang': 'es'}]\n",
      "Descripción: [{'_value': 'Peso y valor de las exportaciones de bienes según capítulos arancelarios y territorios de destino comercial. Canarias y años. Desde 2000', '_lang': 'es'}]\n",
      "URL del dataset: URL no disponible\n",
      "\n",
      "Título: [{'_value': 'Importaciones según capítulos arancelarios y territorios de origen comercial. Canarias y años. Desde 2000', '_lang': 'es'}]\n",
      "Descripción: [{'_value': 'Peso y valor de las importaciones de bienes según capítulos arancelarios y territorios de origen comercial. Canarias y años. Desde 2000', '_lang': 'es'}]\n",
      "URL del dataset: URL no disponible\n",
      "\n",
      "Título: [{'_value': 'Importaciones y exportaciones según capítulos arancelarios y zonas económicas y geográficas. Canarias y años. Desde 2000', '_lang': 'es'}]\n",
      "Descripción: [{'_value': 'Peso y valor de las importaciones y exportaciones de bienes según capítulos arancelarios y zonas económicas y geográficas. Canarias y años. Desde 2000.', '_lang': 'es'}]\n",
      "URL del dataset: URL no disponible\n",
      "\n",
      "Título: [{'_value': 'Importaciones y exportaciones según capítulos y partidas arancelarias. Canarias y años. Desde 2000', '_lang': 'es'}]\n",
      "Descripción: [{'_value': 'Peso y valor de las importaciones y exportaciones de bienes según capítulos y partidas arancelarias. Canarias y años. Desde 2000', '_lang': 'es'}]\n",
      "URL del dataset: URL no disponible\n",
      "\n"
     ]
    }
   ],
   "source": [
    "import requests\n",
    "\n",
    "# URL de la API para obtener el catálogo de datasets\n",
    "url = \"https://datos.gob.es/apidata/catalog/dataset\"\n",
    "\n",
    "# Hacemos la solicitud sin parámetros\n",
    "response = requests.get(url)\n",
    "\n",
    "# Comprobamos si la solicitud fue exitosa\n",
    "if response.status_code == 200:\n",
    "    data = response.json()\n",
    "    datasets = data[\"result\"][\"items\"]\n",
    "    \n",
    "    # Mostramos los títulos y descripciones de los primeros datasets\n",
    "    for dataset in datasets:  # Mostramos solo los primeros 5 datasets\n",
    "        print(f\"Título: {dataset.get('title', 'Título no disponible')}\")\n",
    "        print(f\"Descripción: {dataset.get('description', 'Descripción no disponible')}\")\n",
    "        print(f\"URL del dataset: {dataset.get('landingPage', 'URL no disponible')}\\n\")\n",
    "else:\n",
    "    print(f\"Error en la solicitud. Código de estado: {response.status_code}\")\n"
   ]
  },
  {
   "cell_type": "code",
   "execution_count": 26,
   "metadata": {},
   "outputs": [
    {
     "ename": "JSONDecodeError",
     "evalue": "Expecting value: line 1 column 1 (char 0)",
     "output_type": "error",
     "traceback": [
      "\u001b[1;31m---------------------------------------------------------------------------\u001b[0m",
      "\u001b[1;31mJSONDecodeError\u001b[0m                           Traceback (most recent call last)",
      "File \u001b[1;32m~\\AppData\\Roaming\\Python\\Python311\\site-packages\\requests\\models.py:971\u001b[0m, in \u001b[0;36mResponse.json\u001b[1;34m(self, **kwargs)\u001b[0m\n\u001b[0;32m    970\u001b[0m \u001b[38;5;28;01mtry\u001b[39;00m:\n\u001b[1;32m--> 971\u001b[0m     \u001b[38;5;28;01mreturn\u001b[39;00m \u001b[43mcomplexjson\u001b[49m\u001b[38;5;241;43m.\u001b[39;49m\u001b[43mloads\u001b[49m\u001b[43m(\u001b[49m\u001b[38;5;28;43mself\u001b[39;49m\u001b[38;5;241;43m.\u001b[39;49m\u001b[43mtext\u001b[49m\u001b[43m,\u001b[49m\u001b[43m \u001b[49m\u001b[38;5;241;43m*\u001b[39;49m\u001b[38;5;241;43m*\u001b[39;49m\u001b[43mkwargs\u001b[49m\u001b[43m)\u001b[49m\n\u001b[0;32m    972\u001b[0m \u001b[38;5;28;01mexcept\u001b[39;00m JSONDecodeError \u001b[38;5;28;01mas\u001b[39;00m e:\n\u001b[0;32m    973\u001b[0m     \u001b[38;5;66;03m# Catch JSON-related errors and raise as requests.JSONDecodeError\u001b[39;00m\n\u001b[0;32m    974\u001b[0m     \u001b[38;5;66;03m# This aliases json.JSONDecodeError and simplejson.JSONDecodeError\u001b[39;00m\n",
      "File \u001b[1;32mc:\\Users\\Carlota\\anaconda3\\Lib\\json\\__init__.py:346\u001b[0m, in \u001b[0;36mloads\u001b[1;34m(s, cls, object_hook, parse_float, parse_int, parse_constant, object_pairs_hook, **kw)\u001b[0m\n\u001b[0;32m    343\u001b[0m \u001b[38;5;28;01mif\u001b[39;00m (\u001b[38;5;28mcls\u001b[39m \u001b[38;5;129;01mis\u001b[39;00m \u001b[38;5;28;01mNone\u001b[39;00m \u001b[38;5;129;01mand\u001b[39;00m object_hook \u001b[38;5;129;01mis\u001b[39;00m \u001b[38;5;28;01mNone\u001b[39;00m \u001b[38;5;129;01mand\u001b[39;00m\n\u001b[0;32m    344\u001b[0m         parse_int \u001b[38;5;129;01mis\u001b[39;00m \u001b[38;5;28;01mNone\u001b[39;00m \u001b[38;5;129;01mand\u001b[39;00m parse_float \u001b[38;5;129;01mis\u001b[39;00m \u001b[38;5;28;01mNone\u001b[39;00m \u001b[38;5;129;01mand\u001b[39;00m\n\u001b[0;32m    345\u001b[0m         parse_constant \u001b[38;5;129;01mis\u001b[39;00m \u001b[38;5;28;01mNone\u001b[39;00m \u001b[38;5;129;01mand\u001b[39;00m object_pairs_hook \u001b[38;5;129;01mis\u001b[39;00m \u001b[38;5;28;01mNone\u001b[39;00m \u001b[38;5;129;01mand\u001b[39;00m \u001b[38;5;129;01mnot\u001b[39;00m kw):\n\u001b[1;32m--> 346\u001b[0m     \u001b[38;5;28;01mreturn\u001b[39;00m \u001b[43m_default_decoder\u001b[49m\u001b[38;5;241;43m.\u001b[39;49m\u001b[43mdecode\u001b[49m\u001b[43m(\u001b[49m\u001b[43ms\u001b[49m\u001b[43m)\u001b[49m\n\u001b[0;32m    347\u001b[0m \u001b[38;5;28;01mif\u001b[39;00m \u001b[38;5;28mcls\u001b[39m \u001b[38;5;129;01mis\u001b[39;00m \u001b[38;5;28;01mNone\u001b[39;00m:\n",
      "File \u001b[1;32mc:\\Users\\Carlota\\anaconda3\\Lib\\json\\decoder.py:337\u001b[0m, in \u001b[0;36mJSONDecoder.decode\u001b[1;34m(self, s, _w)\u001b[0m\n\u001b[0;32m    333\u001b[0m \u001b[38;5;250m\u001b[39m\u001b[38;5;124;03m\"\"\"Return the Python representation of ``s`` (a ``str`` instance\u001b[39;00m\n\u001b[0;32m    334\u001b[0m \u001b[38;5;124;03mcontaining a JSON document).\u001b[39;00m\n\u001b[0;32m    335\u001b[0m \n\u001b[0;32m    336\u001b[0m \u001b[38;5;124;03m\"\"\"\u001b[39;00m\n\u001b[1;32m--> 337\u001b[0m obj, end \u001b[38;5;241m=\u001b[39m \u001b[38;5;28;43mself\u001b[39;49m\u001b[38;5;241;43m.\u001b[39;49m\u001b[43mraw_decode\u001b[49m\u001b[43m(\u001b[49m\u001b[43ms\u001b[49m\u001b[43m,\u001b[49m\u001b[43m \u001b[49m\u001b[43midx\u001b[49m\u001b[38;5;241;43m=\u001b[39;49m\u001b[43m_w\u001b[49m\u001b[43m(\u001b[49m\u001b[43ms\u001b[49m\u001b[43m,\u001b[49m\u001b[43m \u001b[49m\u001b[38;5;241;43m0\u001b[39;49m\u001b[43m)\u001b[49m\u001b[38;5;241;43m.\u001b[39;49m\u001b[43mend\u001b[49m\u001b[43m(\u001b[49m\u001b[43m)\u001b[49m\u001b[43m)\u001b[49m\n\u001b[0;32m    338\u001b[0m end \u001b[38;5;241m=\u001b[39m _w(s, end)\u001b[38;5;241m.\u001b[39mend()\n",
      "File \u001b[1;32mc:\\Users\\Carlota\\anaconda3\\Lib\\json\\decoder.py:355\u001b[0m, in \u001b[0;36mJSONDecoder.raw_decode\u001b[1;34m(self, s, idx)\u001b[0m\n\u001b[0;32m    354\u001b[0m \u001b[38;5;28;01mexcept\u001b[39;00m \u001b[38;5;167;01mStopIteration\u001b[39;00m \u001b[38;5;28;01mas\u001b[39;00m err:\n\u001b[1;32m--> 355\u001b[0m     \u001b[38;5;28;01mraise\u001b[39;00m JSONDecodeError(\u001b[38;5;124m\"\u001b[39m\u001b[38;5;124mExpecting value\u001b[39m\u001b[38;5;124m\"\u001b[39m, s, err\u001b[38;5;241m.\u001b[39mvalue) \u001b[38;5;28;01mfrom\u001b[39;00m \u001b[38;5;28;01mNone\u001b[39;00m\n\u001b[0;32m    356\u001b[0m \u001b[38;5;28;01mreturn\u001b[39;00m obj, end\n",
      "\u001b[1;31mJSONDecodeError\u001b[0m: Expecting value: line 1 column 1 (char 0)",
      "\nDuring handling of the above exception, another exception occurred:\n",
      "\u001b[1;31mJSONDecodeError\u001b[0m                           Traceback (most recent call last)",
      "Cell \u001b[1;32mIn[26], line 15\u001b[0m\n\u001b[0;32m     13\u001b[0m \u001b[38;5;66;03m# Comprobamos si la solicitud fue exitosa\u001b[39;00m\n\u001b[0;32m     14\u001b[0m \u001b[38;5;28;01mif\u001b[39;00m response\u001b[38;5;241m.\u001b[39mstatus_code \u001b[38;5;241m==\u001b[39m \u001b[38;5;241m200\u001b[39m:\n\u001b[1;32m---> 15\u001b[0m     data \u001b[38;5;241m=\u001b[39m \u001b[43mresponse\u001b[49m\u001b[38;5;241;43m.\u001b[39;49m\u001b[43mjson\u001b[49m\u001b[43m(\u001b[49m\u001b[43m)\u001b[49m\n\u001b[0;32m     16\u001b[0m     \u001b[38;5;28mprint\u001b[39m(\u001b[38;5;124m\"\u001b[39m\u001b[38;5;124mDatos obtenidos correctamente.\u001b[39m\u001b[38;5;124m\"\u001b[39m)\n\u001b[0;32m     17\u001b[0m     \u001b[38;5;66;03m# Aquí puedes procesar los datos según sea necesario\u001b[39;00m\n\u001b[0;32m     18\u001b[0m \u001b[38;5;28;01melse\u001b[39;00m:\n",
      "File \u001b[1;32m~\\AppData\\Roaming\\Python\\Python311\\site-packages\\requests\\models.py:975\u001b[0m, in \u001b[0;36mResponse.json\u001b[1;34m(self, **kwargs)\u001b[0m\n\u001b[0;32m    971\u001b[0m     \u001b[38;5;28;01mreturn\u001b[39;00m complexjson\u001b[38;5;241m.\u001b[39mloads(\u001b[38;5;28mself\u001b[39m\u001b[38;5;241m.\u001b[39mtext, \u001b[38;5;241m*\u001b[39m\u001b[38;5;241m*\u001b[39mkwargs)\n\u001b[0;32m    972\u001b[0m \u001b[38;5;28;01mexcept\u001b[39;00m JSONDecodeError \u001b[38;5;28;01mas\u001b[39;00m e:\n\u001b[0;32m    973\u001b[0m     \u001b[38;5;66;03m# Catch JSON-related errors and raise as requests.JSONDecodeError\u001b[39;00m\n\u001b[0;32m    974\u001b[0m     \u001b[38;5;66;03m# This aliases json.JSONDecodeError and simplejson.JSONDecodeError\u001b[39;00m\n\u001b[1;32m--> 975\u001b[0m     \u001b[38;5;28;01mraise\u001b[39;00m RequestsJSONDecodeError(e\u001b[38;5;241m.\u001b[39mmsg, e\u001b[38;5;241m.\u001b[39mdoc, e\u001b[38;5;241m.\u001b[39mpos)\n",
      "\u001b[1;31mJSONDecodeError\u001b[0m: Expecting value: line 1 column 1 (char 0)"
     ]
    }
   ],
   "source": [
    "import requests\n",
    "\n",
    "# URL base para acceder a la API del INE\n",
    "base_url = \"https://servicios.ine.es/wstempus/js/inebase.htm?type=pcaxis\"\n",
    "\n",
    "# Ejemplo: Acceder a una serie de datos (por ejemplo, \"poblacion\")\n",
    "endpoint = \"/api/ine/poblacion\"\n",
    "url = base_url + endpoint\n",
    "\n",
    "# Hacemos la solicitud GET\n",
    "response = requests.get(url)\n",
    "\n",
    "# Comprobamos si la solicitud fue exitosa\n",
    "if response.status_code == 200:\n",
    "    data = response.json()\n",
    "    print(\"Datos obtenidos correctamente.\")\n",
    "    # Aquí puedes procesar los datos según sea necesario\n",
    "else:\n",
    "    print(f\"Error en la solicitud. Código de estado: {response.status_code}\")\n"
   ]
  },
  {
   "cell_type": "code",
   "execution_count": 27,
   "metadata": {},
   "outputs": [
    {
     "ename": "ConnectionError",
     "evalue": "HTTPSConnectionPool(host='api.ine.es', port=443): Max retries exceeded with url: /wstempus/js/inebase.htm?type=pcaxis&path=/poblacion (Caused by NameResolutionError(\"<urllib3.connection.HTTPSConnection object at 0x0000015280975390>: Failed to resolve 'api.ine.es' ([Errno 11001] getaddrinfo failed)\"))",
     "output_type": "error",
     "traceback": [
      "\u001b[1;31m---------------------------------------------------------------------------\u001b[0m",
      "\u001b[1;31mgaierror\u001b[0m                                  Traceback (most recent call last)",
      "File \u001b[1;32m~\\AppData\\Roaming\\Python\\Python311\\site-packages\\urllib3\\connection.py:203\u001b[0m, in \u001b[0;36mHTTPConnection._new_conn\u001b[1;34m(self)\u001b[0m\n\u001b[0;32m    202\u001b[0m \u001b[38;5;28;01mtry\u001b[39;00m:\n\u001b[1;32m--> 203\u001b[0m     sock \u001b[38;5;241m=\u001b[39m \u001b[43mconnection\u001b[49m\u001b[38;5;241;43m.\u001b[39;49m\u001b[43mcreate_connection\u001b[49m\u001b[43m(\u001b[49m\n\u001b[0;32m    204\u001b[0m \u001b[43m        \u001b[49m\u001b[43m(\u001b[49m\u001b[38;5;28;43mself\u001b[39;49m\u001b[38;5;241;43m.\u001b[39;49m\u001b[43m_dns_host\u001b[49m\u001b[43m,\u001b[49m\u001b[43m \u001b[49m\u001b[38;5;28;43mself\u001b[39;49m\u001b[38;5;241;43m.\u001b[39;49m\u001b[43mport\u001b[49m\u001b[43m)\u001b[49m\u001b[43m,\u001b[49m\n\u001b[0;32m    205\u001b[0m \u001b[43m        \u001b[49m\u001b[38;5;28;43mself\u001b[39;49m\u001b[38;5;241;43m.\u001b[39;49m\u001b[43mtimeout\u001b[49m\u001b[43m,\u001b[49m\n\u001b[0;32m    206\u001b[0m \u001b[43m        \u001b[49m\u001b[43msource_address\u001b[49m\u001b[38;5;241;43m=\u001b[39;49m\u001b[38;5;28;43mself\u001b[39;49m\u001b[38;5;241;43m.\u001b[39;49m\u001b[43msource_address\u001b[49m\u001b[43m,\u001b[49m\n\u001b[0;32m    207\u001b[0m \u001b[43m        \u001b[49m\u001b[43msocket_options\u001b[49m\u001b[38;5;241;43m=\u001b[39;49m\u001b[38;5;28;43mself\u001b[39;49m\u001b[38;5;241;43m.\u001b[39;49m\u001b[43msocket_options\u001b[49m\u001b[43m,\u001b[49m\n\u001b[0;32m    208\u001b[0m \u001b[43m    \u001b[49m\u001b[43m)\u001b[49m\n\u001b[0;32m    209\u001b[0m \u001b[38;5;28;01mexcept\u001b[39;00m socket\u001b[38;5;241m.\u001b[39mgaierror \u001b[38;5;28;01mas\u001b[39;00m e:\n",
      "File \u001b[1;32m~\\AppData\\Roaming\\Python\\Python311\\site-packages\\urllib3\\util\\connection.py:60\u001b[0m, in \u001b[0;36mcreate_connection\u001b[1;34m(address, timeout, source_address, socket_options)\u001b[0m\n\u001b[0;32m     58\u001b[0m     \u001b[38;5;28;01mraise\u001b[39;00m LocationParseError(\u001b[38;5;124mf\u001b[39m\u001b[38;5;124m\"\u001b[39m\u001b[38;5;124m'\u001b[39m\u001b[38;5;132;01m{\u001b[39;00mhost\u001b[38;5;132;01m}\u001b[39;00m\u001b[38;5;124m'\u001b[39m\u001b[38;5;124m, label empty or too long\u001b[39m\u001b[38;5;124m\"\u001b[39m) \u001b[38;5;28;01mfrom\u001b[39;00m \u001b[38;5;28;01mNone\u001b[39;00m\n\u001b[1;32m---> 60\u001b[0m \u001b[38;5;28;01mfor\u001b[39;00m res \u001b[38;5;129;01min\u001b[39;00m \u001b[43msocket\u001b[49m\u001b[38;5;241;43m.\u001b[39;49m\u001b[43mgetaddrinfo\u001b[49m\u001b[43m(\u001b[49m\u001b[43mhost\u001b[49m\u001b[43m,\u001b[49m\u001b[43m \u001b[49m\u001b[43mport\u001b[49m\u001b[43m,\u001b[49m\u001b[43m \u001b[49m\u001b[43mfamily\u001b[49m\u001b[43m,\u001b[49m\u001b[43m \u001b[49m\u001b[43msocket\u001b[49m\u001b[38;5;241;43m.\u001b[39;49m\u001b[43mSOCK_STREAM\u001b[49m\u001b[43m)\u001b[49m:\n\u001b[0;32m     61\u001b[0m     af, socktype, proto, canonname, sa \u001b[38;5;241m=\u001b[39m res\n",
      "File \u001b[1;32mc:\\Users\\Carlota\\anaconda3\\Lib\\socket.py:962\u001b[0m, in \u001b[0;36mgetaddrinfo\u001b[1;34m(host, port, family, type, proto, flags)\u001b[0m\n\u001b[0;32m    961\u001b[0m addrlist \u001b[38;5;241m=\u001b[39m []\n\u001b[1;32m--> 962\u001b[0m \u001b[38;5;28;01mfor\u001b[39;00m res \u001b[38;5;129;01min\u001b[39;00m \u001b[43m_socket\u001b[49m\u001b[38;5;241;43m.\u001b[39;49m\u001b[43mgetaddrinfo\u001b[49m\u001b[43m(\u001b[49m\u001b[43mhost\u001b[49m\u001b[43m,\u001b[49m\u001b[43m \u001b[49m\u001b[43mport\u001b[49m\u001b[43m,\u001b[49m\u001b[43m \u001b[49m\u001b[43mfamily\u001b[49m\u001b[43m,\u001b[49m\u001b[43m \u001b[49m\u001b[38;5;28;43mtype\u001b[39;49m\u001b[43m,\u001b[49m\u001b[43m \u001b[49m\u001b[43mproto\u001b[49m\u001b[43m,\u001b[49m\u001b[43m \u001b[49m\u001b[43mflags\u001b[49m\u001b[43m)\u001b[49m:\n\u001b[0;32m    963\u001b[0m     af, socktype, proto, canonname, sa \u001b[38;5;241m=\u001b[39m res\n",
      "\u001b[1;31mgaierror\u001b[0m: [Errno 11001] getaddrinfo failed",
      "\nThe above exception was the direct cause of the following exception:\n",
      "\u001b[1;31mNameResolutionError\u001b[0m                       Traceback (most recent call last)",
      "File \u001b[1;32m~\\AppData\\Roaming\\Python\\Python311\\site-packages\\urllib3\\connectionpool.py:790\u001b[0m, in \u001b[0;36mHTTPConnectionPool.urlopen\u001b[1;34m(self, method, url, body, headers, retries, redirect, assert_same_host, timeout, pool_timeout, release_conn, chunked, body_pos, preload_content, decode_content, **response_kw)\u001b[0m\n\u001b[0;32m    789\u001b[0m \u001b[38;5;66;03m# Make the request on the HTTPConnection object\u001b[39;00m\n\u001b[1;32m--> 790\u001b[0m response \u001b[38;5;241m=\u001b[39m \u001b[38;5;28;43mself\u001b[39;49m\u001b[38;5;241;43m.\u001b[39;49m\u001b[43m_make_request\u001b[49m\u001b[43m(\u001b[49m\n\u001b[0;32m    791\u001b[0m \u001b[43m    \u001b[49m\u001b[43mconn\u001b[49m\u001b[43m,\u001b[49m\n\u001b[0;32m    792\u001b[0m \u001b[43m    \u001b[49m\u001b[43mmethod\u001b[49m\u001b[43m,\u001b[49m\n\u001b[0;32m    793\u001b[0m \u001b[43m    \u001b[49m\u001b[43murl\u001b[49m\u001b[43m,\u001b[49m\n\u001b[0;32m    794\u001b[0m \u001b[43m    \u001b[49m\u001b[43mtimeout\u001b[49m\u001b[38;5;241;43m=\u001b[39;49m\u001b[43mtimeout_obj\u001b[49m\u001b[43m,\u001b[49m\n\u001b[0;32m    795\u001b[0m \u001b[43m    \u001b[49m\u001b[43mbody\u001b[49m\u001b[38;5;241;43m=\u001b[39;49m\u001b[43mbody\u001b[49m\u001b[43m,\u001b[49m\n\u001b[0;32m    796\u001b[0m \u001b[43m    \u001b[49m\u001b[43mheaders\u001b[49m\u001b[38;5;241;43m=\u001b[39;49m\u001b[43mheaders\u001b[49m\u001b[43m,\u001b[49m\n\u001b[0;32m    797\u001b[0m \u001b[43m    \u001b[49m\u001b[43mchunked\u001b[49m\u001b[38;5;241;43m=\u001b[39;49m\u001b[43mchunked\u001b[49m\u001b[43m,\u001b[49m\n\u001b[0;32m    798\u001b[0m \u001b[43m    \u001b[49m\u001b[43mretries\u001b[49m\u001b[38;5;241;43m=\u001b[39;49m\u001b[43mretries\u001b[49m\u001b[43m,\u001b[49m\n\u001b[0;32m    799\u001b[0m \u001b[43m    \u001b[49m\u001b[43mresponse_conn\u001b[49m\u001b[38;5;241;43m=\u001b[39;49m\u001b[43mresponse_conn\u001b[49m\u001b[43m,\u001b[49m\n\u001b[0;32m    800\u001b[0m \u001b[43m    \u001b[49m\u001b[43mpreload_content\u001b[49m\u001b[38;5;241;43m=\u001b[39;49m\u001b[43mpreload_content\u001b[49m\u001b[43m,\u001b[49m\n\u001b[0;32m    801\u001b[0m \u001b[43m    \u001b[49m\u001b[43mdecode_content\u001b[49m\u001b[38;5;241;43m=\u001b[39;49m\u001b[43mdecode_content\u001b[49m\u001b[43m,\u001b[49m\n\u001b[0;32m    802\u001b[0m \u001b[43m    \u001b[49m\u001b[38;5;241;43m*\u001b[39;49m\u001b[38;5;241;43m*\u001b[39;49m\u001b[43mresponse_kw\u001b[49m\u001b[43m,\u001b[49m\n\u001b[0;32m    803\u001b[0m \u001b[43m\u001b[49m\u001b[43m)\u001b[49m\n\u001b[0;32m    805\u001b[0m \u001b[38;5;66;03m# Everything went great!\u001b[39;00m\n",
      "File \u001b[1;32m~\\AppData\\Roaming\\Python\\Python311\\site-packages\\urllib3\\connectionpool.py:491\u001b[0m, in \u001b[0;36mHTTPConnectionPool._make_request\u001b[1;34m(self, conn, method, url, body, headers, retries, timeout, chunked, response_conn, preload_content, decode_content, enforce_content_length)\u001b[0m\n\u001b[0;32m    490\u001b[0m         new_e \u001b[38;5;241m=\u001b[39m _wrap_proxy_error(new_e, conn\u001b[38;5;241m.\u001b[39mproxy\u001b[38;5;241m.\u001b[39mscheme)\n\u001b[1;32m--> 491\u001b[0m     \u001b[38;5;28;01mraise\u001b[39;00m new_e\n\u001b[0;32m    493\u001b[0m \u001b[38;5;66;03m# conn.request() calls http.client.*.request, not the method in\u001b[39;00m\n\u001b[0;32m    494\u001b[0m \u001b[38;5;66;03m# urllib3.request. It also calls makefile (recv) on the socket.\u001b[39;00m\n",
      "File \u001b[1;32m~\\AppData\\Roaming\\Python\\Python311\\site-packages\\urllib3\\connectionpool.py:467\u001b[0m, in \u001b[0;36mHTTPConnectionPool._make_request\u001b[1;34m(self, conn, method, url, body, headers, retries, timeout, chunked, response_conn, preload_content, decode_content, enforce_content_length)\u001b[0m\n\u001b[0;32m    466\u001b[0m \u001b[38;5;28;01mtry\u001b[39;00m:\n\u001b[1;32m--> 467\u001b[0m     \u001b[38;5;28;43mself\u001b[39;49m\u001b[38;5;241;43m.\u001b[39;49m\u001b[43m_validate_conn\u001b[49m\u001b[43m(\u001b[49m\u001b[43mconn\u001b[49m\u001b[43m)\u001b[49m\n\u001b[0;32m    468\u001b[0m \u001b[38;5;28;01mexcept\u001b[39;00m (SocketTimeout, BaseSSLError) \u001b[38;5;28;01mas\u001b[39;00m e:\n",
      "File \u001b[1;32m~\\AppData\\Roaming\\Python\\Python311\\site-packages\\urllib3\\connectionpool.py:1092\u001b[0m, in \u001b[0;36mHTTPSConnectionPool._validate_conn\u001b[1;34m(self, conn)\u001b[0m\n\u001b[0;32m   1091\u001b[0m \u001b[38;5;28;01mif\u001b[39;00m conn\u001b[38;5;241m.\u001b[39mis_closed:\n\u001b[1;32m-> 1092\u001b[0m     \u001b[43mconn\u001b[49m\u001b[38;5;241;43m.\u001b[39;49m\u001b[43mconnect\u001b[49m\u001b[43m(\u001b[49m\u001b[43m)\u001b[49m\n\u001b[0;32m   1094\u001b[0m \u001b[38;5;28;01mif\u001b[39;00m \u001b[38;5;129;01mnot\u001b[39;00m conn\u001b[38;5;241m.\u001b[39mis_verified:\n",
      "File \u001b[1;32m~\\AppData\\Roaming\\Python\\Python311\\site-packages\\urllib3\\connection.py:611\u001b[0m, in \u001b[0;36mHTTPSConnection.connect\u001b[1;34m(self)\u001b[0m\n\u001b[0;32m    610\u001b[0m sock: socket\u001b[38;5;241m.\u001b[39msocket \u001b[38;5;241m|\u001b[39m ssl\u001b[38;5;241m.\u001b[39mSSLSocket\n\u001b[1;32m--> 611\u001b[0m \u001b[38;5;28mself\u001b[39m\u001b[38;5;241m.\u001b[39msock \u001b[38;5;241m=\u001b[39m sock \u001b[38;5;241m=\u001b[39m \u001b[38;5;28;43mself\u001b[39;49m\u001b[38;5;241;43m.\u001b[39;49m\u001b[43m_new_conn\u001b[49m\u001b[43m(\u001b[49m\u001b[43m)\u001b[49m\n\u001b[0;32m    612\u001b[0m server_hostname: \u001b[38;5;28mstr\u001b[39m \u001b[38;5;241m=\u001b[39m \u001b[38;5;28mself\u001b[39m\u001b[38;5;241m.\u001b[39mhost\n",
      "File \u001b[1;32m~\\AppData\\Roaming\\Python\\Python311\\site-packages\\urllib3\\connection.py:210\u001b[0m, in \u001b[0;36mHTTPConnection._new_conn\u001b[1;34m(self)\u001b[0m\n\u001b[0;32m    209\u001b[0m \u001b[38;5;28;01mexcept\u001b[39;00m socket\u001b[38;5;241m.\u001b[39mgaierror \u001b[38;5;28;01mas\u001b[39;00m e:\n\u001b[1;32m--> 210\u001b[0m     \u001b[38;5;28;01mraise\u001b[39;00m NameResolutionError(\u001b[38;5;28mself\u001b[39m\u001b[38;5;241m.\u001b[39mhost, \u001b[38;5;28mself\u001b[39m, e) \u001b[38;5;28;01mfrom\u001b[39;00m \u001b[38;5;21;01me\u001b[39;00m\n\u001b[0;32m    211\u001b[0m \u001b[38;5;28;01mexcept\u001b[39;00m SocketTimeout \u001b[38;5;28;01mas\u001b[39;00m e:\n",
      "\u001b[1;31mNameResolutionError\u001b[0m: <urllib3.connection.HTTPSConnection object at 0x0000015280975390>: Failed to resolve 'api.ine.es' ([Errno 11001] getaddrinfo failed)",
      "\nThe above exception was the direct cause of the following exception:\n",
      "\u001b[1;31mMaxRetryError\u001b[0m                             Traceback (most recent call last)",
      "File \u001b[1;32m~\\AppData\\Roaming\\Python\\Python311\\site-packages\\requests\\adapters.py:486\u001b[0m, in \u001b[0;36mHTTPAdapter.send\u001b[1;34m(self, request, stream, timeout, verify, cert, proxies)\u001b[0m\n\u001b[0;32m    485\u001b[0m \u001b[38;5;28;01mtry\u001b[39;00m:\n\u001b[1;32m--> 486\u001b[0m     resp \u001b[38;5;241m=\u001b[39m \u001b[43mconn\u001b[49m\u001b[38;5;241;43m.\u001b[39;49m\u001b[43murlopen\u001b[49m\u001b[43m(\u001b[49m\n\u001b[0;32m    487\u001b[0m \u001b[43m        \u001b[49m\u001b[43mmethod\u001b[49m\u001b[38;5;241;43m=\u001b[39;49m\u001b[43mrequest\u001b[49m\u001b[38;5;241;43m.\u001b[39;49m\u001b[43mmethod\u001b[49m\u001b[43m,\u001b[49m\n\u001b[0;32m    488\u001b[0m \u001b[43m        \u001b[49m\u001b[43murl\u001b[49m\u001b[38;5;241;43m=\u001b[39;49m\u001b[43murl\u001b[49m\u001b[43m,\u001b[49m\n\u001b[0;32m    489\u001b[0m \u001b[43m        \u001b[49m\u001b[43mbody\u001b[49m\u001b[38;5;241;43m=\u001b[39;49m\u001b[43mrequest\u001b[49m\u001b[38;5;241;43m.\u001b[39;49m\u001b[43mbody\u001b[49m\u001b[43m,\u001b[49m\n\u001b[0;32m    490\u001b[0m \u001b[43m        \u001b[49m\u001b[43mheaders\u001b[49m\u001b[38;5;241;43m=\u001b[39;49m\u001b[43mrequest\u001b[49m\u001b[38;5;241;43m.\u001b[39;49m\u001b[43mheaders\u001b[49m\u001b[43m,\u001b[49m\n\u001b[0;32m    491\u001b[0m \u001b[43m        \u001b[49m\u001b[43mredirect\u001b[49m\u001b[38;5;241;43m=\u001b[39;49m\u001b[38;5;28;43;01mFalse\u001b[39;49;00m\u001b[43m,\u001b[49m\n\u001b[0;32m    492\u001b[0m \u001b[43m        \u001b[49m\u001b[43massert_same_host\u001b[49m\u001b[38;5;241;43m=\u001b[39;49m\u001b[38;5;28;43;01mFalse\u001b[39;49;00m\u001b[43m,\u001b[49m\n\u001b[0;32m    493\u001b[0m \u001b[43m        \u001b[49m\u001b[43mpreload_content\u001b[49m\u001b[38;5;241;43m=\u001b[39;49m\u001b[38;5;28;43;01mFalse\u001b[39;49;00m\u001b[43m,\u001b[49m\n\u001b[0;32m    494\u001b[0m \u001b[43m        \u001b[49m\u001b[43mdecode_content\u001b[49m\u001b[38;5;241;43m=\u001b[39;49m\u001b[38;5;28;43;01mFalse\u001b[39;49;00m\u001b[43m,\u001b[49m\n\u001b[0;32m    495\u001b[0m \u001b[43m        \u001b[49m\u001b[43mretries\u001b[49m\u001b[38;5;241;43m=\u001b[39;49m\u001b[38;5;28;43mself\u001b[39;49m\u001b[38;5;241;43m.\u001b[39;49m\u001b[43mmax_retries\u001b[49m\u001b[43m,\u001b[49m\n\u001b[0;32m    496\u001b[0m \u001b[43m        \u001b[49m\u001b[43mtimeout\u001b[49m\u001b[38;5;241;43m=\u001b[39;49m\u001b[43mtimeout\u001b[49m\u001b[43m,\u001b[49m\n\u001b[0;32m    497\u001b[0m \u001b[43m        \u001b[49m\u001b[43mchunked\u001b[49m\u001b[38;5;241;43m=\u001b[39;49m\u001b[43mchunked\u001b[49m\u001b[43m,\u001b[49m\n\u001b[0;32m    498\u001b[0m \u001b[43m    \u001b[49m\u001b[43m)\u001b[49m\n\u001b[0;32m    500\u001b[0m \u001b[38;5;28;01mexcept\u001b[39;00m (ProtocolError, \u001b[38;5;167;01mOSError\u001b[39;00m) \u001b[38;5;28;01mas\u001b[39;00m err:\n",
      "File \u001b[1;32m~\\AppData\\Roaming\\Python\\Python311\\site-packages\\urllib3\\connectionpool.py:844\u001b[0m, in \u001b[0;36mHTTPConnectionPool.urlopen\u001b[1;34m(self, method, url, body, headers, retries, redirect, assert_same_host, timeout, pool_timeout, release_conn, chunked, body_pos, preload_content, decode_content, **response_kw)\u001b[0m\n\u001b[0;32m    842\u001b[0m     new_e \u001b[38;5;241m=\u001b[39m ProtocolError(\u001b[38;5;124m\"\u001b[39m\u001b[38;5;124mConnection aborted.\u001b[39m\u001b[38;5;124m\"\u001b[39m, new_e)\n\u001b[1;32m--> 844\u001b[0m retries \u001b[38;5;241m=\u001b[39m \u001b[43mretries\u001b[49m\u001b[38;5;241;43m.\u001b[39;49m\u001b[43mincrement\u001b[49m\u001b[43m(\u001b[49m\n\u001b[0;32m    845\u001b[0m \u001b[43m    \u001b[49m\u001b[43mmethod\u001b[49m\u001b[43m,\u001b[49m\u001b[43m \u001b[49m\u001b[43murl\u001b[49m\u001b[43m,\u001b[49m\u001b[43m \u001b[49m\u001b[43merror\u001b[49m\u001b[38;5;241;43m=\u001b[39;49m\u001b[43mnew_e\u001b[49m\u001b[43m,\u001b[49m\u001b[43m \u001b[49m\u001b[43m_pool\u001b[49m\u001b[38;5;241;43m=\u001b[39;49m\u001b[38;5;28;43mself\u001b[39;49m\u001b[43m,\u001b[49m\u001b[43m \u001b[49m\u001b[43m_stacktrace\u001b[49m\u001b[38;5;241;43m=\u001b[39;49m\u001b[43msys\u001b[49m\u001b[38;5;241;43m.\u001b[39;49m\u001b[43mexc_info\u001b[49m\u001b[43m(\u001b[49m\u001b[43m)\u001b[49m\u001b[43m[\u001b[49m\u001b[38;5;241;43m2\u001b[39;49m\u001b[43m]\u001b[49m\n\u001b[0;32m    846\u001b[0m \u001b[43m\u001b[49m\u001b[43m)\u001b[49m\n\u001b[0;32m    847\u001b[0m retries\u001b[38;5;241m.\u001b[39msleep()\n",
      "File \u001b[1;32m~\\AppData\\Roaming\\Python\\Python311\\site-packages\\urllib3\\util\\retry.py:515\u001b[0m, in \u001b[0;36mRetry.increment\u001b[1;34m(self, method, url, response, error, _pool, _stacktrace)\u001b[0m\n\u001b[0;32m    514\u001b[0m     reason \u001b[38;5;241m=\u001b[39m error \u001b[38;5;129;01mor\u001b[39;00m ResponseError(cause)\n\u001b[1;32m--> 515\u001b[0m     \u001b[38;5;28;01mraise\u001b[39;00m MaxRetryError(_pool, url, reason) \u001b[38;5;28;01mfrom\u001b[39;00m \u001b[38;5;21;01mreason\u001b[39;00m  \u001b[38;5;66;03m# type: ignore[arg-type]\u001b[39;00m\n\u001b[0;32m    517\u001b[0m log\u001b[38;5;241m.\u001b[39mdebug(\u001b[38;5;124m\"\u001b[39m\u001b[38;5;124mIncremented Retry for (url=\u001b[39m\u001b[38;5;124m'\u001b[39m\u001b[38;5;132;01m%s\u001b[39;00m\u001b[38;5;124m'\u001b[39m\u001b[38;5;124m): \u001b[39m\u001b[38;5;132;01m%r\u001b[39;00m\u001b[38;5;124m\"\u001b[39m, url, new_retry)\n",
      "\u001b[1;31mMaxRetryError\u001b[0m: HTTPSConnectionPool(host='api.ine.es', port=443): Max retries exceeded with url: /wstempus/js/inebase.htm?type=pcaxis&path=/poblacion (Caused by NameResolutionError(\"<urllib3.connection.HTTPSConnection object at 0x0000015280975390>: Failed to resolve 'api.ine.es' ([Errno 11001] getaddrinfo failed)\"))",
      "\nDuring handling of the above exception, another exception occurred:\n",
      "\u001b[1;31mConnectionError\u001b[0m                           Traceback (most recent call last)",
      "Cell \u001b[1;32mIn[27], line 6\u001b[0m\n\u001b[0;32m      3\u001b[0m \u001b[38;5;66;03m# Endpoint específico (esto es solo un ejemplo, consulta la documentación para los endpoints correctos)\u001b[39;00m\n\u001b[0;32m      4\u001b[0m url \u001b[38;5;241m=\u001b[39m \u001b[38;5;124m\"\u001b[39m\u001b[38;5;124mhttps://api.ine.es/wstempus/js/inebase.htm?type=pcaxis&path=/poblacion\u001b[39m\u001b[38;5;124m\"\u001b[39m\n\u001b[1;32m----> 6\u001b[0m response \u001b[38;5;241m=\u001b[39m \u001b[43mrequests\u001b[49m\u001b[38;5;241;43m.\u001b[39;49m\u001b[43mget\u001b[49m\u001b[43m(\u001b[49m\u001b[43murl\u001b[49m\u001b[43m)\u001b[49m\n\u001b[0;32m      8\u001b[0m \u001b[38;5;28mprint\u001b[39m(\u001b[38;5;124mf\u001b[39m\u001b[38;5;124m\"\u001b[39m\u001b[38;5;124mCódigo de estado: \u001b[39m\u001b[38;5;132;01m{\u001b[39;00mresponse\u001b[38;5;241m.\u001b[39mstatus_code\u001b[38;5;132;01m}\u001b[39;00m\u001b[38;5;124m\"\u001b[39m)\n\u001b[0;32m      9\u001b[0m \u001b[38;5;28mprint\u001b[39m(\u001b[38;5;124m\"\u001b[39m\u001b[38;5;124mContenido de la respuesta:\u001b[39m\u001b[38;5;124m\"\u001b[39m)\n",
      "File \u001b[1;32m~\\AppData\\Roaming\\Python\\Python311\\site-packages\\requests\\api.py:73\u001b[0m, in \u001b[0;36mget\u001b[1;34m(url, params, **kwargs)\u001b[0m\n\u001b[0;32m     62\u001b[0m \u001b[38;5;28;01mdef\u001b[39;00m \u001b[38;5;21mget\u001b[39m(url, params\u001b[38;5;241m=\u001b[39m\u001b[38;5;28;01mNone\u001b[39;00m, \u001b[38;5;241m*\u001b[39m\u001b[38;5;241m*\u001b[39mkwargs):\n\u001b[0;32m     63\u001b[0m \u001b[38;5;250m    \u001b[39m\u001b[38;5;124mr\u001b[39m\u001b[38;5;124;03m\"\"\"Sends a GET request.\u001b[39;00m\n\u001b[0;32m     64\u001b[0m \n\u001b[0;32m     65\u001b[0m \u001b[38;5;124;03m    :param url: URL for the new :class:`Request` object.\u001b[39;00m\n\u001b[1;32m   (...)\u001b[0m\n\u001b[0;32m     70\u001b[0m \u001b[38;5;124;03m    :rtype: requests.Response\u001b[39;00m\n\u001b[0;32m     71\u001b[0m \u001b[38;5;124;03m    \"\"\"\u001b[39;00m\n\u001b[1;32m---> 73\u001b[0m     \u001b[38;5;28;01mreturn\u001b[39;00m \u001b[43mrequest\u001b[49m\u001b[43m(\u001b[49m\u001b[38;5;124;43m\"\u001b[39;49m\u001b[38;5;124;43mget\u001b[39;49m\u001b[38;5;124;43m\"\u001b[39;49m\u001b[43m,\u001b[49m\u001b[43m \u001b[49m\u001b[43murl\u001b[49m\u001b[43m,\u001b[49m\u001b[43m \u001b[49m\u001b[43mparams\u001b[49m\u001b[38;5;241;43m=\u001b[39;49m\u001b[43mparams\u001b[49m\u001b[43m,\u001b[49m\u001b[43m \u001b[49m\u001b[38;5;241;43m*\u001b[39;49m\u001b[38;5;241;43m*\u001b[39;49m\u001b[43mkwargs\u001b[49m\u001b[43m)\u001b[49m\n",
      "File \u001b[1;32m~\\AppData\\Roaming\\Python\\Python311\\site-packages\\requests\\api.py:59\u001b[0m, in \u001b[0;36mrequest\u001b[1;34m(method, url, **kwargs)\u001b[0m\n\u001b[0;32m     55\u001b[0m \u001b[38;5;66;03m# By using the 'with' statement we are sure the session is closed, thus we\u001b[39;00m\n\u001b[0;32m     56\u001b[0m \u001b[38;5;66;03m# avoid leaving sockets open which can trigger a ResourceWarning in some\u001b[39;00m\n\u001b[0;32m     57\u001b[0m \u001b[38;5;66;03m# cases, and look like a memory leak in others.\u001b[39;00m\n\u001b[0;32m     58\u001b[0m \u001b[38;5;28;01mwith\u001b[39;00m sessions\u001b[38;5;241m.\u001b[39mSession() \u001b[38;5;28;01mas\u001b[39;00m session:\n\u001b[1;32m---> 59\u001b[0m     \u001b[38;5;28;01mreturn\u001b[39;00m \u001b[43msession\u001b[49m\u001b[38;5;241;43m.\u001b[39;49m\u001b[43mrequest\u001b[49m\u001b[43m(\u001b[49m\u001b[43mmethod\u001b[49m\u001b[38;5;241;43m=\u001b[39;49m\u001b[43mmethod\u001b[49m\u001b[43m,\u001b[49m\u001b[43m \u001b[49m\u001b[43murl\u001b[49m\u001b[38;5;241;43m=\u001b[39;49m\u001b[43murl\u001b[49m\u001b[43m,\u001b[49m\u001b[43m \u001b[49m\u001b[38;5;241;43m*\u001b[39;49m\u001b[38;5;241;43m*\u001b[39;49m\u001b[43mkwargs\u001b[49m\u001b[43m)\u001b[49m\n",
      "File \u001b[1;32m~\\AppData\\Roaming\\Python\\Python311\\site-packages\\requests\\sessions.py:589\u001b[0m, in \u001b[0;36mSession.request\u001b[1;34m(self, method, url, params, data, headers, cookies, files, auth, timeout, allow_redirects, proxies, hooks, stream, verify, cert, json)\u001b[0m\n\u001b[0;32m    584\u001b[0m send_kwargs \u001b[38;5;241m=\u001b[39m {\n\u001b[0;32m    585\u001b[0m     \u001b[38;5;124m\"\u001b[39m\u001b[38;5;124mtimeout\u001b[39m\u001b[38;5;124m\"\u001b[39m: timeout,\n\u001b[0;32m    586\u001b[0m     \u001b[38;5;124m\"\u001b[39m\u001b[38;5;124mallow_redirects\u001b[39m\u001b[38;5;124m\"\u001b[39m: allow_redirects,\n\u001b[0;32m    587\u001b[0m }\n\u001b[0;32m    588\u001b[0m send_kwargs\u001b[38;5;241m.\u001b[39mupdate(settings)\n\u001b[1;32m--> 589\u001b[0m resp \u001b[38;5;241m=\u001b[39m \u001b[38;5;28;43mself\u001b[39;49m\u001b[38;5;241;43m.\u001b[39;49m\u001b[43msend\u001b[49m\u001b[43m(\u001b[49m\u001b[43mprep\u001b[49m\u001b[43m,\u001b[49m\u001b[43m \u001b[49m\u001b[38;5;241;43m*\u001b[39;49m\u001b[38;5;241;43m*\u001b[39;49m\u001b[43msend_kwargs\u001b[49m\u001b[43m)\u001b[49m\n\u001b[0;32m    591\u001b[0m \u001b[38;5;28;01mreturn\u001b[39;00m resp\n",
      "File \u001b[1;32m~\\AppData\\Roaming\\Python\\Python311\\site-packages\\requests\\sessions.py:703\u001b[0m, in \u001b[0;36mSession.send\u001b[1;34m(self, request, **kwargs)\u001b[0m\n\u001b[0;32m    700\u001b[0m start \u001b[38;5;241m=\u001b[39m preferred_clock()\n\u001b[0;32m    702\u001b[0m \u001b[38;5;66;03m# Send the request\u001b[39;00m\n\u001b[1;32m--> 703\u001b[0m r \u001b[38;5;241m=\u001b[39m \u001b[43madapter\u001b[49m\u001b[38;5;241;43m.\u001b[39;49m\u001b[43msend\u001b[49m\u001b[43m(\u001b[49m\u001b[43mrequest\u001b[49m\u001b[43m,\u001b[49m\u001b[43m \u001b[49m\u001b[38;5;241;43m*\u001b[39;49m\u001b[38;5;241;43m*\u001b[39;49m\u001b[43mkwargs\u001b[49m\u001b[43m)\u001b[49m\n\u001b[0;32m    705\u001b[0m \u001b[38;5;66;03m# Total elapsed time of the request (approximately)\u001b[39;00m\n\u001b[0;32m    706\u001b[0m elapsed \u001b[38;5;241m=\u001b[39m preferred_clock() \u001b[38;5;241m-\u001b[39m start\n",
      "File \u001b[1;32m~\\AppData\\Roaming\\Python\\Python311\\site-packages\\requests\\adapters.py:519\u001b[0m, in \u001b[0;36mHTTPAdapter.send\u001b[1;34m(self, request, stream, timeout, verify, cert, proxies)\u001b[0m\n\u001b[0;32m    515\u001b[0m     \u001b[38;5;28;01mif\u001b[39;00m \u001b[38;5;28misinstance\u001b[39m(e\u001b[38;5;241m.\u001b[39mreason, _SSLError):\n\u001b[0;32m    516\u001b[0m         \u001b[38;5;66;03m# This branch is for urllib3 v1.22 and later.\u001b[39;00m\n\u001b[0;32m    517\u001b[0m         \u001b[38;5;28;01mraise\u001b[39;00m SSLError(e, request\u001b[38;5;241m=\u001b[39mrequest)\n\u001b[1;32m--> 519\u001b[0m     \u001b[38;5;28;01mraise\u001b[39;00m \u001b[38;5;167;01mConnectionError\u001b[39;00m(e, request\u001b[38;5;241m=\u001b[39mrequest)\n\u001b[0;32m    521\u001b[0m \u001b[38;5;28;01mexcept\u001b[39;00m ClosedPoolError \u001b[38;5;28;01mas\u001b[39;00m e:\n\u001b[0;32m    522\u001b[0m     \u001b[38;5;28;01mraise\u001b[39;00m \u001b[38;5;167;01mConnectionError\u001b[39;00m(e, request\u001b[38;5;241m=\u001b[39mrequest)\n",
      "\u001b[1;31mConnectionError\u001b[0m: HTTPSConnectionPool(host='api.ine.es', port=443): Max retries exceeded with url: /wstempus/js/inebase.htm?type=pcaxis&path=/poblacion (Caused by NameResolutionError(\"<urllib3.connection.HTTPSConnection object at 0x0000015280975390>: Failed to resolve 'api.ine.es' ([Errno 11001] getaddrinfo failed)\"))"
     ]
    }
   ],
   "source": [
    "import requests\n",
    "\n",
    "# Endpoint específico (esto es solo un ejemplo, consulta la documentación para los endpoints correctos)\n",
    "url = \"https://api.ine.es/wstempus/js/inebase.htm?type=pcaxis&path=/poblacion\"\n",
    "\n",
    "response = requests.get(url)\n",
    "\n",
    "print(f\"Código de estado: {response.status_code}\")\n",
    "print(\"Contenido de la respuesta:\")\n",
    "print(response.text)  # Imprime la respuesta para ver qué está devolviendo\n",
    "\n",
    "if response.status_code == 200:\n",
    "    try:\n",
    "        data = response.json()\n",
    "        print(\"Datos obtenidos correctamente.\")\n",
    "        print(data)\n",
    "    except ValueError as e:\n",
    "        print(f\"Error al decodificar JSON: {e}\")\n",
    "else:\n",
    "    print(f\"Error en la solicitud: {response.status_code}\")\n",
    "\n"
   ]
  },
  {
   "cell_type": "code",
   "execution_count": 29,
   "metadata": {},
   "outputs": [
    {
     "name": "stdout",
     "output_type": "stream",
     "text": [
      "Collecting yfinance\n",
      "  Downloading yfinance-0.2.46-py2.py3-none-any.whl.metadata (13 kB)\n",
      "Requirement already satisfied: pandas>=1.3.0 in c:\\users\\carlota\\appdata\\roaming\\python\\python311\\site-packages (from yfinance) (2.1.1)\n",
      "Requirement already satisfied: numpy>=1.16.5 in c:\\users\\carlota\\appdata\\roaming\\python\\python311\\site-packages (from yfinance) (1.26.0)\n",
      "Requirement already satisfied: requests>=2.31 in c:\\users\\carlota\\appdata\\roaming\\python\\python311\\site-packages (from yfinance) (2.31.0)\n",
      "Collecting multitasking>=0.0.7 (from yfinance)\n",
      "  Downloading multitasking-0.0.11-py3-none-any.whl.metadata (5.5 kB)\n",
      "Requirement already satisfied: lxml>=4.9.1 in c:\\users\\carlota\\anaconda3\\lib\\site-packages (from yfinance) (4.9.3)\n",
      "Requirement already satisfied: platformdirs>=2.0.0 in c:\\users\\carlota\\appdata\\roaming\\python\\python311\\site-packages (from yfinance) (3.10.0)\n",
      "Requirement already satisfied: pytz>=2022.5 in c:\\users\\carlota\\appdata\\roaming\\python\\python311\\site-packages (from yfinance) (2023.3.post1)\n",
      "Collecting frozendict>=2.3.4 (from yfinance)\n",
      "  Downloading frozendict-2.4.6-py311-none-any.whl.metadata (23 kB)\n",
      "Collecting peewee>=3.16.2 (from yfinance)\n",
      "  Downloading peewee-3.17.7.tar.gz (939 kB)\n",
      "     ---------------------------------------- 0.0/939.5 kB ? eta -:--:--\n",
      "     --------- ---------------------------- 235.5/939.5 kB 4.8 MB/s eta 0:00:01\n",
      "     ----------------------- -------------- 583.7/939.5 kB 7.4 MB/s eta 0:00:01\n",
      "     ------------------------------------ - 890.9/939.5 kB 7.0 MB/s eta 0:00:01\n",
      "     -------------------------------------- 939.5/939.5 kB 5.9 MB/s eta 0:00:00\n",
      "  Installing build dependencies: started\n",
      "  Installing build dependencies: finished with status 'done'\n",
      "  Getting requirements to build wheel: started\n",
      "  Getting requirements to build wheel: finished with status 'done'\n",
      "  Preparing metadata (pyproject.toml): started\n",
      "  Preparing metadata (pyproject.toml): finished with status 'done'\n",
      "Requirement already satisfied: beautifulsoup4>=4.11.1 in c:\\users\\carlota\\appdata\\roaming\\python\\python311\\site-packages (from yfinance) (4.12.2)\n",
      "Collecting html5lib>=1.1 (from yfinance)\n",
      "  Downloading html5lib-1.1-py2.py3-none-any.whl.metadata (16 kB)\n",
      "Requirement already satisfied: soupsieve>1.2 in c:\\users\\carlota\\appdata\\roaming\\python\\python311\\site-packages (from beautifulsoup4>=4.11.1->yfinance) (2.5)\n",
      "Requirement already satisfied: six>=1.9 in c:\\users\\carlota\\appdata\\roaming\\python\\python311\\site-packages (from html5lib>=1.1->yfinance) (1.16.0)\n",
      "Requirement already satisfied: webencodings in c:\\users\\carlota\\appdata\\roaming\\python\\python311\\site-packages (from html5lib>=1.1->yfinance) (0.5.1)\n",
      "Requirement already satisfied: python-dateutil>=2.8.2 in c:\\users\\carlota\\appdata\\roaming\\python\\python311\\site-packages (from pandas>=1.3.0->yfinance) (2.8.2)\n",
      "Requirement already satisfied: tzdata>=2022.1 in c:\\users\\carlota\\appdata\\roaming\\python\\python311\\site-packages (from pandas>=1.3.0->yfinance) (2023.3)\n",
      "Requirement already satisfied: charset-normalizer<4,>=2 in c:\\users\\carlota\\appdata\\roaming\\python\\python311\\site-packages (from requests>=2.31->yfinance) (3.2.0)\n",
      "Requirement already satisfied: idna<4,>=2.5 in c:\\users\\carlota\\appdata\\roaming\\python\\python311\\site-packages (from requests>=2.31->yfinance) (3.4)\n",
      "Requirement already satisfied: urllib3<3,>=1.21.1 in c:\\users\\carlota\\appdata\\roaming\\python\\python311\\site-packages (from requests>=2.31->yfinance) (2.0.4)\n",
      "Requirement already satisfied: certifi>=2017.4.17 in c:\\users\\carlota\\appdata\\roaming\\python\\python311\\site-packages (from requests>=2.31->yfinance) (2023.7.22)\n",
      "Downloading yfinance-0.2.46-py2.py3-none-any.whl (100 kB)\n",
      "   ---------------------------------------- 0.0/101.0 kB ? eta -:--:--\n",
      "   ---------------------------------------- 101.0/101.0 kB 6.0 MB/s eta 0:00:00\n",
      "Downloading frozendict-2.4.6-py311-none-any.whl (16 kB)\n",
      "Downloading html5lib-1.1-py2.py3-none-any.whl (112 kB)\n",
      "   ---------------------------------------- 0.0/112.2 kB ? eta -:--:--\n",
      "   ---------------------------------------- 112.2/112.2 kB 6.8 MB/s eta 0:00:00\n",
      "Downloading multitasking-0.0.11-py3-none-any.whl (8.5 kB)\n",
      "Building wheels for collected packages: peewee\n",
      "  Building wheel for peewee (pyproject.toml): started\n",
      "  Building wheel for peewee (pyproject.toml): finished with status 'done'\n",
      "  Created wheel for peewee: filename=peewee-3.17.7-py3-none-any.whl size=138951 sha256=2d1de9d6ab2448265fa4d3a393b31f161deb6cad6b38d92f09b58998321faab9\n",
      "  Stored in directory: c:\\users\\carlota\\appdata\\local\\pip\\cache\\wheels\\fd\\28\\34\\9ba1363b76703fe35ae8296af28ea74578a41b83544bb9da65\n",
      "Successfully built peewee\n",
      "Installing collected packages: peewee, multitasking, html5lib, frozendict, yfinance\n",
      "Successfully installed frozendict-2.4.6 html5lib-1.1 multitasking-0.0.11 peewee-3.17.7 yfinance-0.2.46\n"
     ]
    },
    {
     "name": "stderr",
     "output_type": "stream",
     "text": [
      "\n",
      "[notice] A new release of pip is available: 24.0 -> 24.2\n",
      "[notice] To update, run: python.exe -m pip install --upgrade pip\n"
     ]
    }
   ],
   "source": [
    "#!pip install yfinance"
   ]
  },
  {
   "cell_type": "code",
   "execution_count": 33,
   "metadata": {},
   "outputs": [],
   "source": [
    "import yfinance as yf\n",
    "\n",
    "msft = yf.Ticker(\"MSFT\")\n",
    "\n",
    "# get all stock info\n",
    "msft.info\n",
    "print(\"Stock Info:\", info)\n",
    "\n",
    "# get historical market data\n",
    "hist = msft.history(period=\"1mo\")\n",
    "print(\"\\nHistorical Market Data:\\n\", hist)\n",
    "\n",
    "# show meta information about the history (requires history() to be called first)\n",
    "history_metadata = msft.history_metadata\n",
    "print(\"\\nHistory Metadata:\", history_metadata)\n",
    "\n",
    "# show actions (dividends, splits, capital gains)\n",
    "actions = msft.actions\n",
    "dividends = msft.dividends\n",
    "splits = msft.splits\n",
    "capital_gains = msft.capital_gains  # only for mutual funds & etfs\n",
    "print(\"\\nActions:\\n\", actions)\n",
    "print(\"\\nDividends:\\n\", dividends)\n",
    "print(\"\\nSplits:\\n\", splits)\n",
    "print(\"\\nCapital Gains:\\n\", capital_gains)\n",
    "\n",
    "# show share count\n",
    "shares_full = msft.get_shares_full(start=\"2022-01-01\", end=None)\n",
    "print(\"\\nShare Count:\\n\", shares_full)\n",
    "\n",
    "# show financials:\n",
    "calendar = msft.calendar\n",
    "sec_filings = msft.sec_filings\n",
    "print(\"\\nCalendar:\\n\", calendar)\n",
    "print(\"\\nSEC Filings:\\n\", sec_filings)\n",
    "\n",
    "\n",
    "# - income statement\n",
    "income_stmt = msft.income_stmt\n",
    "quartely_income_stmt = msft.quarterly_income_stmt\n",
    "print(\"\\nIncome Statement:\\n\", income_stmt)\n",
    "print(\"\\nQuarterly Income Statement:\\n\", quarterly_income_stmt)\n",
    "\n",
    "# - balance sheet\n",
    "balance_sheet = msft.balance_sheet\n",
    "quarterly_balance_sheet = msft.quarterly_balance_sheet\n",
    "print(\"\\nBalance Sheet:\\n\", balance_sheet)\n",
    "print(\"\\nQuarterly Balance Sheet:\\n\", quarterly_balance_sheet)\n",
    "\n",
    "# - cash flow statement\n",
    "cashflow = msft.cashflow\n",
    "quarterly_cashflow = msft.quarterly_cashflow\n",
    "print(\"\\nCash Flow Statement:\\n\", cashflow)\n",
    "print(\"\\nQuarterly Cash Flow Statement:\\n\", quarterly_cashflow)\n",
    "\n",
    "# see `Ticker.get_income_stmt()` for more options\n",
    "\n",
    "# show holders\n",
    "\n",
    "major_holders = msft.major_holders\n",
    "institutional_holders = msft.institutional_holders\n",
    "mutualfund_holders = msft.mutualfund_holders\n",
    "insider_transactions = msft.insider_transactions\n",
    "insider_purchases = msft.insider_purchases\n",
    "insider_roster_holders = msft.insider_roster_holders\n",
    "\n",
    "print(\"\\nMajor Holders:\\n\", major_holders)\n",
    "print(\"\\nInstitutional Holders:\\n\", institutional_holders)\n",
    "print(\"\\nMutual Fund Holders:\\n\", mutualfund_holders)\n",
    "print(\"\\nInsider Transactions:\\n\", insider_transactions)\n",
    "print(\"\\nInsider Purchases:\\n\", insider_purchases)\n",
    "print(\"\\nInsider Roster Holders:\\n\", insider_roster_holders)\n",
    "\n",
    "# Sustainability info\n",
    "sustainability = msft.sustainability\n",
    "print(\"\\nSustainability:\\n\", sustainability)\n",
    "\n",
    "# Show recommendations\n",
    "recommendations = msft.recommendations\n",
    "recommendations_summary = msft.recommendations_summary\n",
    "print(\"\\nRecommendations:\\n\", recommendations)\n",
    "print(\"\\nRecommendations Summary:\\n\", recommendations_summary)\n",
    "\n",
    "\n",
    "# show analysts data\n",
    "analyst_price_targets = msft.analyst_price_targets\n",
    "earnings_estimate = msft.earnings_estimate\n",
    "revenue_estimate = msft.revenue_estimate\n",
    "earnings_history = msft.earnings_history\n",
    "eps_trend = msft.eps_trend\n",
    "eps_revisions = msft.eps_revisions\n",
    "growth_estimates = msft.growth_estimates\n",
    "\n",
    "print(\"\\nAnalyst Price Targets:\\n\", analyst_price_targets)\n",
    "print(\"\\nEarnings Estimate:\\n\", earnings_estimate)\n",
    "print(\"\\nRevenue Estimate:\\n\", revenue_estimate)\n",
    "print(\"\\nEarnings History:\\n\", earnings_history)\n",
    "print(\"\\nEPS Trend:\\n\", eps_trend)\n",
    "print(\"\\nEPS Revisions:\\n\", eps_revisions)\n",
    "print(\"\\nGrowth Estimates:\\n\", growth_estimates)\n",
    "\n",
    "# Show future and historic earnings dates, returns at most next 4 quarters and last 8 quarters by default.\n",
    "# Note: If more are needed use msft.get_earnings_dates(limit=XX) with increased limit argument.\n",
    "earnings_dates = msft.earnings_dates\n",
    "print(\"\\nEarnings Dates:\\n\", earnings_dates)\n",
    "\n",
    "# show ISIN code - *experimental*\n",
    "# ISIN = International Securities Identification Number\n",
    "isin = msft.isin\n",
    "print(\"\\nISIN Code:\\n\", isin)\n",
    "\n",
    "# show options expirations\n",
    "options = msft.options\n",
    "print(\"\\nOptions Expirations:\\n\", options)\n",
    "\n",
    "# show news\n",
    "news = msft.news\n",
    "print(\"\\nNews:\\n\", news)\n",
    "\n",
    "expiration_date = '2024-11-29'\n",
    "# get option chain for specific expiration\n",
    "opt = msft.option_chain(expiration_date)\n",
    "# data available via: opt.calls, opt.puts\n",
    "calls = opt.calls\n",
    "puts = opt.puts\n",
    "\n",
    "print(\"\\nCalls:\\n\", calls)\n",
    "print(\"\\nPuts:\\n\", puts)"
   ]
  },
  {
   "cell_type": "code",
   "execution_count": null,
   "metadata": {},
   "outputs": [],
   "source": []
  }
 ],
 "metadata": {
  "kernelspec": {
   "display_name": "base",
   "language": "python",
   "name": "python3"
  },
  "language_info": {
   "codemirror_mode": {
    "name": "ipython",
    "version": 3
   },
   "file_extension": ".py",
   "mimetype": "text/x-python",
   "name": "python",
   "nbconvert_exporter": "python",
   "pygments_lexer": "ipython3",
   "version": "3.11.7"
  }
 },
 "nbformat": 4,
 "nbformat_minor": 2
}
